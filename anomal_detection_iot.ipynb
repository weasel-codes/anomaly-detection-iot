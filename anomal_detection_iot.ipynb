{
  "nbformat": 4,
  "nbformat_minor": 0,
  "metadata": {
    "colab": {
      "name": "anomal-detection-iot.ipynb",
      "provenance": [],
      "collapsed_sections": [],
      "mount_file_id": "1rxQypSQ_22PnkOfWJoBDQXaSo5OkO3oX",
      "authorship_tag": "ABX9TyML4VSjZ0UzUpk8bVuIpGx+",
      "include_colab_link": true
    },
    "kernelspec": {
      "name": "python3",
      "display_name": "Python 3"
    },
    "language_info": {
      "name": "python"
    },
    "accelerator": "TPU"
  },
  "cells": [
    {
      "cell_type": "markdown",
      "metadata": {
        "id": "view-in-github",
        "colab_type": "text"
      },
      "source": [
        "<a href=\"https://colab.research.google.com/github/weasel-codes/anomaly-detection-iot/blob/main/anomal_detection_iot.ipynb\" target=\"_parent\"><img src=\"https://colab.research.google.com/assets/colab-badge.svg\" alt=\"Open In Colab\"/></a>"
      ]
    },
    {
      "cell_type": "markdown",
      "metadata": {
        "id": "Fe2_KWEUB7ze"
      },
      "source": [
        "> Performing basic file split using wireshark"
      ]
    },
    {
      "cell_type": "code",
      "metadata": {
        "colab": {
          "base_uri": "https://localhost:8080/"
        },
        "id": "6IYWuoT4lDii",
        "outputId": "793e20d3-2b58-4936-8251-a8682bcd915c"
      },
      "source": [
        "!apt-get install tshark"
      ],
      "execution_count": 1,
      "outputs": [
        {
          "output_type": "stream",
          "text": [
            "Reading package lists... Done\n",
            "Building dependency tree       \n",
            "Reading state information... Done\n",
            "tshark is already the newest version (2.6.10-1~ubuntu18.04.0).\n",
            "0 upgraded, 0 newly installed, 0 to remove and 30 not upgraded.\n"
          ],
          "name": "stdout"
        }
      ]
    },
    {
      "cell_type": "code",
      "metadata": {
        "id": "h7rfmKZuK_yr"
      },
      "source": [
        "import os\n",
        "import pandas as pd\n",
        "import numpy as np"
      ],
      "execution_count": 2,
      "outputs": []
    },
    {
      "cell_type": "code",
      "metadata": {
        "id": "hUO1BjRB_Yn5"
      },
      "source": [
        "base_url = '/content/drive/MyDrive/ML/anomaly/'"
      ],
      "execution_count": 3,
      "outputs": []
    },
    {
      "cell_type": "markdown",
      "metadata": {
        "id": "ENj-uFWv_PI-"
      },
      "source": [
        "# Import Dataset Description"
      ]
    },
    {
      "cell_type": "code",
      "metadata": {
        "colab": {
          "base_uri": "https://localhost:8080/"
        },
        "id": "Ly-eCK2UDw6w",
        "outputId": "d9bd4d13-d778-485a-8f95-11d97bbadf3c"
      },
      "source": [
        "file = pd.read_excel(base_url + 'dataset_description.xlsx')\n",
        "desc_arr = file.to_numpy()\n",
        "desc_arr.shape"
      ],
      "execution_count": 4,
      "outputs": [
        {
          "output_type": "execute_result",
          "data": {
            "text/plain": [
              "(59, 5)"
            ]
          },
          "metadata": {
            "tags": []
          },
          "execution_count": 4
        }
      ]
    },
    {
      "cell_type": "code",
      "metadata": {
        "colab": {
          "base_uri": "https://localhost:8080/"
        },
        "id": "wdK-NjUSGmHS",
        "outputId": "a13d42c2-f36e-4a5c-9ae1-89321c4a92d4"
      },
      "source": [
        "desc_arr[54:]"
      ],
      "execution_count": 5,
      "outputs": [
        {
          "output_type": "execute_result",
          "data": {
            "text/plain": [
              "array([[nan, nan, 'Mirai Botnet', 'Telnet Bruteforce',\n",
              "        'tcp.dstport==23 and ip.src==192.168.0.13'],\n",
              "       [41.0, 'mirai-hostbruteforce-4-dec.pcap', 'Mirai Botnet',\n",
              "        'Host Discovery',\n",
              "        'arp.dst.proto_ipv4 == 192.168.0.0/24 and arp.src.proto_ipv4 == 192.168.0.24 and eth.dst == ff:ff:ff:ff:ff:ff'],\n",
              "       [nan, nan, 'Mirai Botnet', 'Telnet Bruteforce',\n",
              "        'tcp.dstport==23 and ip.src==192.168.0.24'],\n",
              "       [42.0, 'mirai-hostbruteforce-5-dec.pcap', 'Mirai Botnet',\n",
              "        'Host Discovery',\n",
              "        'arp.dst.proto_ipv4 == 192.168.0.0/24 and arp.src.proto_ipv4 == 192.168.0.13 and eth.dst == ff:ff:ff:ff:ff:ff'],\n",
              "       [nan, nan, 'Mirai Botnet', 'Telnet Bruteforce',\n",
              "        'tcp.dstport==23 and ip.src==192.168.0.13']], dtype=object)"
            ]
          },
          "metadata": {
            "tags": []
          },
          "execution_count": 5
        }
      ]
    },
    {
      "cell_type": "code",
      "metadata": {
        "colab": {
          "base_uri": "https://localhost:8080/"
        },
        "id": "lizOmTePHoB_",
        "outputId": "13c157c0-e335-4ad4-abb2-8c9dd26ee7f2"
      },
      "source": [
        "tot_file = desc_arr.shape[0]\n",
        "for i in range(tot_file) :\n",
        "    desc_arr[i][0] = i+1\n",
        "    if(isinstance(desc_arr[i][1], float)) :\n",
        "      desc_arr[i][1] = desc_arr[i-1][1]\n",
        "\n",
        "desc_arr[54:]"
      ],
      "execution_count": 6,
      "outputs": [
        {
          "output_type": "execute_result",
          "data": {
            "text/plain": [
              "array([[55, 'mirai-hostbruteforce-3-dec.pcap', 'Mirai Botnet',\n",
              "        'Telnet Bruteforce', 'tcp.dstport==23 and ip.src==192.168.0.13'],\n",
              "       [56, 'mirai-hostbruteforce-4-dec.pcap', 'Mirai Botnet',\n",
              "        'Host Discovery',\n",
              "        'arp.dst.proto_ipv4 == 192.168.0.0/24 and arp.src.proto_ipv4 == 192.168.0.24 and eth.dst == ff:ff:ff:ff:ff:ff'],\n",
              "       [57, 'mirai-hostbruteforce-4-dec.pcap', 'Mirai Botnet',\n",
              "        'Telnet Bruteforce', 'tcp.dstport==23 and ip.src==192.168.0.24'],\n",
              "       [58, 'mirai-hostbruteforce-5-dec.pcap', 'Mirai Botnet',\n",
              "        'Host Discovery',\n",
              "        'arp.dst.proto_ipv4 == 192.168.0.0/24 and arp.src.proto_ipv4 == 192.168.0.13 and eth.dst == ff:ff:ff:ff:ff:ff'],\n",
              "       [59, 'mirai-hostbruteforce-5-dec.pcap', 'Mirai Botnet',\n",
              "        'Telnet Bruteforce', 'tcp.dstport==23 and ip.src==192.168.0.13']],\n",
              "      dtype=object)"
            ]
          },
          "metadata": {
            "tags": []
          },
          "execution_count": 6
        }
      ]
    },
    {
      "cell_type": "code",
      "metadata": {
        "id": "IsqH9P_rYne5"
      },
      "source": [
        "cpac_file_loc = 'packet/'\n",
        "attack_key = 'attack/'\n",
        "all_key = 'csv/'"
      ],
      "execution_count": 7,
      "outputs": []
    },
    {
      "cell_type": "code",
      "metadata": {
        "colab": {
          "base_uri": "https://localhost:8080/"
        },
        "id": "UyoQMfbHK1vq",
        "outputId": "3568b17d-d4ce-4839-c70c-3457a396dd67"
      },
      "source": [
        "# For benign\n",
        "command = 'tshark -r ' + base_url + cpac_file_loc + desc_arr[0][1] + ' -T fields -e frame.number -e frame.time_relative -e frame.len -e data.len -e ip.src -e ip.dst -e frame.protocols -E header=y -E separator=, -E quote=d -E occurrence=f > ' + base_url + all_key + str(desc_arr[0][0]) + '.csv'\n",
        "print(\"For benign : All : \" , command)\n",
        "os.system(command)\n",
        "\n",
        "for i in range(1, tot_file) :\n",
        "  file_name = desc_arr[i][1]\n",
        "  file_rule = desc_arr[i][4]\n",
        "  file_rule = file_rule.replace('\\n', ' ') # to remove newline from filters\n",
        "\n",
        "  from_loc = base_url + cpac_file_loc + file_name\n",
        "  to_loc_attack = base_url + attack_key + str(desc_arr[i][0]) + '.csv'\n",
        "  to_loc_all = base_url + all_key + str(desc_arr[i][0]) + '.csv'\n",
        "\n",
        "  packet_to_all_command = 'tshark -r {} -T fields -e frame.number -e frame.time_relative -e frame.len -e data.len -e ip.src -e ip.dst -e frame.protocols -E header=y -E separator=, -E quote=d -E occurrence=f > {}'\n",
        "  packet_to_all_command = packet_to_all_command.format(from_loc, to_loc_all)\n",
        "\n",
        "  packet_to_attack_command = 'tshark -r {} -T fields -e frame.number -e frame.time_relative -e frame.len -e data.len -e ip.src -e ip.dst -e frame.protocols -E header=y -E separator=, -E quote=d -E occurrence=f \\'{}\\' > {}'\n",
        "  packet_to_attack_command = packet_to_attack_command.format(from_loc, file_rule, to_loc_attack)\n",
        "\n",
        "  print(file_name, \" : All : \" , packet_to_all_command)\n",
        "  os.system(packet_to_all_command)\n",
        "  print(file_name, \" : Attack : \", packet_to_attack_command)\n",
        "  os.system(packet_to_attack_command)\n",
        "  # break"
      ],
      "execution_count": 8,
      "outputs": [
        {
          "output_type": "stream",
          "text": [
            "For benign : All :  tshark -r /content/drive/MyDrive/ML/anomaly/packet/benign-dec.pcap -T fields -e frame.number -e frame.time_relative -e frame.len -e data.len -e ip.src -e ip.dst -e frame.protocols -E header=y -E separator=, -E quote=d -E occurrence=f > /content/drive/MyDrive/ML/anomaly/csv/1.csv\n",
            "mitm-arpspoofing-1-dec.pcap  : All :  tshark -r /content/drive/MyDrive/ML/anomaly/packet/mitm-arpspoofing-1-dec.pcap -T fields -e frame.number -e frame.time_relative -e frame.len -e data.len -e ip.src -e ip.dst -e frame.protocols -E header=y -E separator=, -E quote=d -E occurrence=f > /content/drive/MyDrive/ML/anomaly/csv/2.csv\n",
            "mitm-arpspoofing-1-dec.pcap  : Attack :  tshark -r /content/drive/MyDrive/ML/anomaly/packet/mitm-arpspoofing-1-dec.pcap -T fields -e frame.number -e frame.time_relative -e frame.len -e data.len -e ip.src -e ip.dst -e frame.protocols -E header=y -E separator=, -E quote=d -E occurrence=f 'eth.addr == f0:18:98:5e:ff:9f and  ((((ip.src == 192.168.0.16 and ip.dst == 192.168.0.13)  or (ip.src == 192.168.0.13 and ip.dst == 192.168.0.16))  and !icmp and tcp)  or (arp.src.hw_mac == f0:18:98:5e:ff:9f  and (arp.dst.hw_mac == bc:1c:81:4b:ae:ba or arp.dst.hw_mac == 48:4b:aa:2c:d8:f9)))' > /content/drive/MyDrive/ML/anomaly/attack/2.csv\n",
            "mitm-arpspoofing-2-dec.pcap  : All :  tshark -r /content/drive/MyDrive/ML/anomaly/packet/mitm-arpspoofing-2-dec.pcap -T fields -e frame.number -e frame.time_relative -e frame.len -e data.len -e ip.src -e ip.dst -e frame.protocols -E header=y -E separator=, -E quote=d -E occurrence=f > /content/drive/MyDrive/ML/anomaly/csv/3.csv\n",
            "mitm-arpspoofing-2-dec.pcap  : Attack :  tshark -r /content/drive/MyDrive/ML/anomaly/packet/mitm-arpspoofing-2-dec.pcap -T fields -e frame.number -e frame.time_relative -e frame.len -e data.len -e ip.src -e ip.dst -e frame.protocols -E header=y -E separator=, -E quote=d -E occurrence=f 'eth.addr == f0:18:98:5e:ff:9f and  ((((ip.src == 192.168.0.16 and ip.dst == 192.168.0.13)  or (ip.src == 192.168.0.13 and ip.dst == 192.168.0.16))  and !icmp and tcp)  or (arp.src.hw_mac == f0:18:98:5e:ff:9f  and (arp.dst.hw_mac == bc:1c:81:4b:ae:ba or arp.dst.hw_mac == 48:4b:aa:2c:d8:f9)))' > /content/drive/MyDrive/ML/anomaly/attack/3.csv\n",
            "mitm-arpspoofing-3-dec.pcap  : All :  tshark -r /content/drive/MyDrive/ML/anomaly/packet/mitm-arpspoofing-3-dec.pcap -T fields -e frame.number -e frame.time_relative -e frame.len -e data.len -e ip.src -e ip.dst -e frame.protocols -E header=y -E separator=, -E quote=d -E occurrence=f > /content/drive/MyDrive/ML/anomaly/csv/4.csv\n",
            "mitm-arpspoofing-3-dec.pcap  : Attack :  tshark -r /content/drive/MyDrive/ML/anomaly/packet/mitm-arpspoofing-3-dec.pcap -T fields -e frame.number -e frame.time_relative -e frame.len -e data.len -e ip.src -e ip.dst -e frame.protocols -E header=y -E separator=, -E quote=d -E occurrence=f 'eth.addr == f0:18:98:5e:ff:9f and  ((((ip.src == 192.168.0.16 and ip.dst == 192.168.0.13)  or (ip.src == 192.168.0.13 and ip.dst == 192.168.0.16))  and !icmp and tcp)  or (arp.src.hw_mac == f0:18:98:5e:ff:9f  and (arp.dst.hw_mac == bc:1c:81:4b:ae:ba or arp.dst.hw_mac == 48:4b:aa:2c:d8:f9)))' > /content/drive/MyDrive/ML/anomaly/attack/4.csv\n",
            "mitm-arpspoofing-4-dec.pcap  : All :  tshark -r /content/drive/MyDrive/ML/anomaly/packet/mitm-arpspoofing-4-dec.pcap -T fields -e frame.number -e frame.time_relative -e frame.len -e data.len -e ip.src -e ip.dst -e frame.protocols -E header=y -E separator=, -E quote=d -E occurrence=f > /content/drive/MyDrive/ML/anomaly/csv/5.csv\n",
            "mitm-arpspoofing-4-dec.pcap  : Attack :  tshark -r /content/drive/MyDrive/ML/anomaly/packet/mitm-arpspoofing-4-dec.pcap -T fields -e frame.number -e frame.time_relative -e frame.len -e data.len -e ip.src -e ip.dst -e frame.protocols -E header=y -E separator=, -E quote=d -E occurrence=f 'eth.addr == f0:18:98:5e:ff:9f and  (((ip.addr == 192.168.0.24)  and !icmp and tcp)  or (arp.src.hw_mac == f0:18:98:5e:ff:9f  and (arp.dst.hw_mac == 04:32:f4:45:17:b3 or arp.dst.hw_mac == 88:36:6c:d7:1c:56)))' > /content/drive/MyDrive/ML/anomaly/attack/5.csv\n",
            "mitm-arpspoofing-5-dec.pcap  : All :  tshark -r /content/drive/MyDrive/ML/anomaly/packet/mitm-arpspoofing-5-dec.pcap -T fields -e frame.number -e frame.time_relative -e frame.len -e data.len -e ip.src -e ip.dst -e frame.protocols -E header=y -E separator=, -E quote=d -E occurrence=f > /content/drive/MyDrive/ML/anomaly/csv/6.csv\n",
            "mitm-arpspoofing-5-dec.pcap  : Attack :  tshark -r /content/drive/MyDrive/ML/anomaly/packet/mitm-arpspoofing-5-dec.pcap -T fields -e frame.number -e frame.time_relative -e frame.len -e data.len -e ip.src -e ip.dst -e frame.protocols -E header=y -E separator=, -E quote=d -E occurrence=f 'eth.addr == f0:18:98:5e:ff:9f and  (((ip.addr == 192.168.0.24)  and !icmp and tcp)  or (arp.src.hw_mac == f0:18:98:5e:ff:9f  and (arp.dst.hw_mac == 04:32:f4:45:17:b3 or arp.dst.hw_mac == 88:36:6c:d7:1c:56)))' > /content/drive/MyDrive/ML/anomaly/attack/6.csv\n",
            "mitm-arpspoofing-6-dec.pcap  : All :  tshark -r /content/drive/MyDrive/ML/anomaly/packet/mitm-arpspoofing-6-dec.pcap -T fields -e frame.number -e frame.time_relative -e frame.len -e data.len -e ip.src -e ip.dst -e frame.protocols -E header=y -E separator=, -E quote=d -E occurrence=f > /content/drive/MyDrive/ML/anomaly/csv/7.csv\n",
            "mitm-arpspoofing-6-dec.pcap  : Attack :  tshark -r /content/drive/MyDrive/ML/anomaly/packet/mitm-arpspoofing-6-dec.pcap -T fields -e frame.number -e frame.time_relative -e frame.len -e data.len -e ip.src -e ip.dst -e frame.protocols -E header=y -E separator=, -E quote=d -E occurrence=f 'eth.addr == f0:18:98:5e:ff:9f and  (((ip.addr == 192.168.0.24)  and !icmp and tcp)  or (arp.src.hw_mac == f0:18:98:5e:ff:9f  and (arp.dst.hw_mac == 04:32:f4:45:17:b3 or arp.dst.hw_mac == 88:36:6c:d7:1c:56)))' > /content/drive/MyDrive/ML/anomaly/attack/7.csv\n",
            "dos-synflooding-1-dec.pcap  : All :  tshark -r /content/drive/MyDrive/ML/anomaly/packet/dos-synflooding-1-dec.pcap -T fields -e frame.number -e frame.time_relative -e frame.len -e data.len -e ip.src -e ip.dst -e frame.protocols -E header=y -E separator=, -E quote=d -E occurrence=f > /content/drive/MyDrive/ML/anomaly/csv/8.csv\n",
            "dos-synflooding-1-dec.pcap  : Attack :  tshark -r /content/drive/MyDrive/ML/anomaly/packet/dos-synflooding-1-dec.pcap -T fields -e frame.number -e frame.time_relative -e frame.len -e data.len -e ip.src -e ip.dst -e frame.protocols -E header=y -E separator=, -E quote=d -E occurrence=f 'ip.src == 222.0.0.0/8 and tcp.flags.syn == 1 and ip.dst == 192.168.0.13 and tcp.dstport == 554 and tcp' > /content/drive/MyDrive/ML/anomaly/attack/8.csv\n",
            "dos-synflooding-2-dec.pcap  : All :  tshark -r /content/drive/MyDrive/ML/anomaly/packet/dos-synflooding-2-dec.pcap -T fields -e frame.number -e frame.time_relative -e frame.len -e data.len -e ip.src -e ip.dst -e frame.protocols -E header=y -E separator=, -E quote=d -E occurrence=f > /content/drive/MyDrive/ML/anomaly/csv/9.csv\n",
            "dos-synflooding-2-dec.pcap  : Attack :  tshark -r /content/drive/MyDrive/ML/anomaly/packet/dos-synflooding-2-dec.pcap -T fields -e frame.number -e frame.time_relative -e frame.len -e data.len -e ip.src -e ip.dst -e frame.protocols -E header=y -E separator=, -E quote=d -E occurrence=f 'ip.src == 222.0.0.0/8 and tcp.flags.syn == 1 and ip.dst == 192.168.0.13 and tcp.dstport == 554 and tcp' > /content/drive/MyDrive/ML/anomaly/attack/9.csv\n",
            "dos-synflooding-3-dec.pcap  : All :  tshark -r /content/drive/MyDrive/ML/anomaly/packet/dos-synflooding-3-dec.pcap -T fields -e frame.number -e frame.time_relative -e frame.len -e data.len -e ip.src -e ip.dst -e frame.protocols -E header=y -E separator=, -E quote=d -E occurrence=f > /content/drive/MyDrive/ML/anomaly/csv/10.csv\n",
            "dos-synflooding-3-dec.pcap  : Attack :  tshark -r /content/drive/MyDrive/ML/anomaly/packet/dos-synflooding-3-dec.pcap -T fields -e frame.number -e frame.time_relative -e frame.len -e data.len -e ip.src -e ip.dst -e frame.protocols -E header=y -E separator=, -E quote=d -E occurrence=f 'ip.src == 111.0.0.0/8 and tcp.flags.syn == 1 and ip.dst == 192.168.0.13 and tcp.dstport == 554 and tcp' > /content/drive/MyDrive/ML/anomaly/attack/10.csv\n",
            "dos-synflooding-4-dec.pcap  : All :  tshark -r /content/drive/MyDrive/ML/anomaly/packet/dos-synflooding-4-dec.pcap -T fields -e frame.number -e frame.time_relative -e frame.len -e data.len -e ip.src -e ip.dst -e frame.protocols -E header=y -E separator=, -E quote=d -E occurrence=f > /content/drive/MyDrive/ML/anomaly/csv/11.csv\n",
            "dos-synflooding-4-dec.pcap  : Attack :  tshark -r /content/drive/MyDrive/ML/anomaly/packet/dos-synflooding-4-dec.pcap -T fields -e frame.number -e frame.time_relative -e frame.len -e data.len -e ip.src -e ip.dst -e frame.protocols -E header=y -E separator=, -E quote=d -E occurrence=f 'ip.dst == 192.168.0.24 and tcp.flags.syn == 1 and ip.src == 111.0.0.0/8 and tcp and tcp.dstport == 19604' > /content/drive/MyDrive/ML/anomaly/attack/11.csv\n",
            "dos-synflooding-5-dec.pcap  : All :  tshark -r /content/drive/MyDrive/ML/anomaly/packet/dos-synflooding-5-dec.pcap -T fields -e frame.number -e frame.time_relative -e frame.len -e data.len -e ip.src -e ip.dst -e frame.protocols -E header=y -E separator=, -E quote=d -E occurrence=f > /content/drive/MyDrive/ML/anomaly/csv/12.csv\n",
            "dos-synflooding-5-dec.pcap  : Attack :  tshark -r /content/drive/MyDrive/ML/anomaly/packet/dos-synflooding-5-dec.pcap -T fields -e frame.number -e frame.time_relative -e frame.len -e data.len -e ip.src -e ip.dst -e frame.protocols -E header=y -E separator=, -E quote=d -E occurrence=f 'ip.dst == 192.168.0.24 and tcp.flags.syn == 1 and ip.src == 111.0.0.0/8 and tcp and tcp.dstport == 19604' > /content/drive/MyDrive/ML/anomaly/attack/12.csv\n",
            "dos-synflooding-6-dec.pcap  : All :  tshark -r /content/drive/MyDrive/ML/anomaly/packet/dos-synflooding-6-dec.pcap -T fields -e frame.number -e frame.time_relative -e frame.len -e data.len -e ip.src -e ip.dst -e frame.protocols -E header=y -E separator=, -E quote=d -E occurrence=f > /content/drive/MyDrive/ML/anomaly/csv/13.csv\n",
            "dos-synflooding-6-dec.pcap  : Attack :  tshark -r /content/drive/MyDrive/ML/anomaly/packet/dos-synflooding-6-dec.pcap -T fields -e frame.number -e frame.time_relative -e frame.len -e data.len -e ip.src -e ip.dst -e frame.protocols -E header=y -E separator=, -E quote=d -E occurrence=f 'ip.dst == 192.168.0.24 and tcp.flags.syn == 1 and ip.src == 111.0.0.0/8 and tcp and tcp.dstport == 19604' > /content/drive/MyDrive/ML/anomaly/attack/13.csv\n",
            "scan-hostport-1-dec.pcap  : All :  tshark -r /content/drive/MyDrive/ML/anomaly/packet/scan-hostport-1-dec.pcap -T fields -e frame.number -e frame.time_relative -e frame.len -e data.len -e ip.src -e ip.dst -e frame.protocols -E header=y -E separator=, -E quote=d -E occurrence=f > /content/drive/MyDrive/ML/anomaly/csv/14.csv\n",
            "scan-hostport-1-dec.pcap  : Attack :  tshark -r /content/drive/MyDrive/ML/anomaly/packet/scan-hostport-1-dec.pcap -T fields -e frame.number -e frame.time_relative -e frame.len -e data.len -e ip.src -e ip.dst -e frame.protocols -E header=y -E separator=, -E quote=d -E occurrence=f '(eth.src == f0:18:98:5e:ff:9f and arp and eth.dst == ff:ff:ff:ff:ff:ff) and frame.number < 13000' > /content/drive/MyDrive/ML/anomaly/attack/14.csv\n",
            "scan-hostport-1-dec.pcap  : All :  tshark -r /content/drive/MyDrive/ML/anomaly/packet/scan-hostport-1-dec.pcap -T fields -e frame.number -e frame.time_relative -e frame.len -e data.len -e ip.src -e ip.dst -e frame.protocols -E header=y -E separator=, -E quote=d -E occurrence=f > /content/drive/MyDrive/ML/anomaly/csv/15.csv\n",
            "scan-hostport-1-dec.pcap  : Attack :  tshark -r /content/drive/MyDrive/ML/anomaly/packet/scan-hostport-1-dec.pcap -T fields -e frame.number -e frame.time_relative -e frame.len -e data.len -e ip.src -e ip.dst -e frame.protocols -E header=y -E separator=, -E quote=d -E occurrence=f 'ip.src == 192.168.0.15 and ip.dst == 192.168.0.13 and ((tcp.flags.syn == 1 and tcp.window_size == 1024) or tcp.flags.reset == 1)' > /content/drive/MyDrive/ML/anomaly/attack/15.csv\n",
            "scan-hostport-2-dec.pcap  : All :  tshark -r /content/drive/MyDrive/ML/anomaly/packet/scan-hostport-2-dec.pcap -T fields -e frame.number -e frame.time_relative -e frame.len -e data.len -e ip.src -e ip.dst -e frame.protocols -E header=y -E separator=, -E quote=d -E occurrence=f > /content/drive/MyDrive/ML/anomaly/csv/16.csv\n",
            "scan-hostport-2-dec.pcap  : Attack :  tshark -r /content/drive/MyDrive/ML/anomaly/packet/scan-hostport-2-dec.pcap -T fields -e frame.number -e frame.time_relative -e frame.len -e data.len -e ip.src -e ip.dst -e frame.protocols -E header=y -E separator=, -E quote=d -E occurrence=f '(eth.src == f0:18:98:5e:ff:9f and arp and eth.dst == ff:ff:ff:ff:ff:ff) and frame.number < 14500' > /content/drive/MyDrive/ML/anomaly/attack/16.csv\n",
            "scan-hostport-2-dec.pcap  : All :  tshark -r /content/drive/MyDrive/ML/anomaly/packet/scan-hostport-2-dec.pcap -T fields -e frame.number -e frame.time_relative -e frame.len -e data.len -e ip.src -e ip.dst -e frame.protocols -E header=y -E separator=, -E quote=d -E occurrence=f > /content/drive/MyDrive/ML/anomaly/csv/17.csv\n",
            "scan-hostport-2-dec.pcap  : Attack :  tshark -r /content/drive/MyDrive/ML/anomaly/packet/scan-hostport-2-dec.pcap -T fields -e frame.number -e frame.time_relative -e frame.len -e data.len -e ip.src -e ip.dst -e frame.protocols -E header=y -E separator=, -E quote=d -E occurrence=f 'ip.src == 192.168.0.15 and ip.dst == 192.168.0.13 and ((tcp.flags.syn == 1 and tcp.window_size == 1024) or tcp.flags.reset == 1)' > /content/drive/MyDrive/ML/anomaly/attack/17.csv\n",
            "scan-hostport-3-dec.pcap  : All :  tshark -r /content/drive/MyDrive/ML/anomaly/packet/scan-hostport-3-dec.pcap -T fields -e frame.number -e frame.time_relative -e frame.len -e data.len -e ip.src -e ip.dst -e frame.protocols -E header=y -E separator=, -E quote=d -E occurrence=f > /content/drive/MyDrive/ML/anomaly/csv/18.csv\n",
            "scan-hostport-3-dec.pcap  : Attack :  tshark -r /content/drive/MyDrive/ML/anomaly/packet/scan-hostport-3-dec.pcap -T fields -e frame.number -e frame.time_relative -e frame.len -e data.len -e ip.src -e ip.dst -e frame.protocols -E header=y -E separator=, -E quote=d -E occurrence=f '(eth.src == f0:18:98:5e:ff:9f and arp and eth.dst == ff:ff:ff:ff:ff:ff) and frame.number < 2000' > /content/drive/MyDrive/ML/anomaly/attack/18.csv\n",
            "scan-hostport-3-dec.pcap  : All :  tshark -r /content/drive/MyDrive/ML/anomaly/packet/scan-hostport-3-dec.pcap -T fields -e frame.number -e frame.time_relative -e frame.len -e data.len -e ip.src -e ip.dst -e frame.protocols -E header=y -E separator=, -E quote=d -E occurrence=f > /content/drive/MyDrive/ML/anomaly/csv/19.csv\n",
            "scan-hostport-3-dec.pcap  : Attack :  tshark -r /content/drive/MyDrive/ML/anomaly/packet/scan-hostport-3-dec.pcap -T fields -e frame.number -e frame.time_relative -e frame.len -e data.len -e ip.src -e ip.dst -e frame.protocols -E header=y -E separator=, -E quote=d -E occurrence=f 'ip.src == 192.168.0.15 and ip.dst == 192.168.0.13 and ((tcp.flags.syn == 1 and tcp.window_size == 1024) or tcp.flags.reset == 1)' > /content/drive/MyDrive/ML/anomaly/attack/19.csv\n",
            "scan-hostport-4-dec.pcap  : All :  tshark -r /content/drive/MyDrive/ML/anomaly/packet/scan-hostport-4-dec.pcap -T fields -e frame.number -e frame.time_relative -e frame.len -e data.len -e ip.src -e ip.dst -e frame.protocols -E header=y -E separator=, -E quote=d -E occurrence=f > /content/drive/MyDrive/ML/anomaly/csv/20.csv\n",
            "scan-hostport-4-dec.pcap  : Attack :  tshark -r /content/drive/MyDrive/ML/anomaly/packet/scan-hostport-4-dec.pcap -T fields -e frame.number -e frame.time_relative -e frame.len -e data.len -e ip.src -e ip.dst -e frame.protocols -E header=y -E separator=, -E quote=d -E occurrence=f '(eth.src == f0:18:98:5e:ff:9f and arp and eth.dst == ff:ff:ff:ff:ff:ff) and frame.number < 4000' > /content/drive/MyDrive/ML/anomaly/attack/20.csv\n",
            "scan-hostport-4-dec.pcap  : All :  tshark -r /content/drive/MyDrive/ML/anomaly/packet/scan-hostport-4-dec.pcap -T fields -e frame.number -e frame.time_relative -e frame.len -e data.len -e ip.src -e ip.dst -e frame.protocols -E header=y -E separator=, -E quote=d -E occurrence=f > /content/drive/MyDrive/ML/anomaly/csv/21.csv\n",
            "scan-hostport-4-dec.pcap  : Attack :  tshark -r /content/drive/MyDrive/ML/anomaly/packet/scan-hostport-4-dec.pcap -T fields -e frame.number -e frame.time_relative -e frame.len -e data.len -e ip.src -e ip.dst -e frame.protocols -E header=y -E separator=, -E quote=d -E occurrence=f 'ip.src == 192.168.0.15 and ip.dst == 192.168.0.24 and ((tcp.flags.syn == 1 and tcp.window_size == 1024) or tcp.flags.reset == 1)' > /content/drive/MyDrive/ML/anomaly/attack/21.csv\n",
            "scan-hostport-5-dec.pcap  : All :  tshark -r /content/drive/MyDrive/ML/anomaly/packet/scan-hostport-5-dec.pcap -T fields -e frame.number -e frame.time_relative -e frame.len -e data.len -e ip.src -e ip.dst -e frame.protocols -E header=y -E separator=, -E quote=d -E occurrence=f > /content/drive/MyDrive/ML/anomaly/csv/22.csv\n",
            "scan-hostport-5-dec.pcap  : Attack :  tshark -r /content/drive/MyDrive/ML/anomaly/packet/scan-hostport-5-dec.pcap -T fields -e frame.number -e frame.time_relative -e frame.len -e data.len -e ip.src -e ip.dst -e frame.protocols -E header=y -E separator=, -E quote=d -E occurrence=f '(eth.src == f0:18:98:5e:ff:9f and arp and eth.dst == ff:ff:ff:ff:ff:ff) and frame.number < 1300' > /content/drive/MyDrive/ML/anomaly/attack/22.csv\n",
            "scan-hostport-5-dec.pcap  : All :  tshark -r /content/drive/MyDrive/ML/anomaly/packet/scan-hostport-5-dec.pcap -T fields -e frame.number -e frame.time_relative -e frame.len -e data.len -e ip.src -e ip.dst -e frame.protocols -E header=y -E separator=, -E quote=d -E occurrence=f > /content/drive/MyDrive/ML/anomaly/csv/23.csv\n",
            "scan-hostport-5-dec.pcap  : Attack :  tshark -r /content/drive/MyDrive/ML/anomaly/packet/scan-hostport-5-dec.pcap -T fields -e frame.number -e frame.time_relative -e frame.len -e data.len -e ip.src -e ip.dst -e frame.protocols -E header=y -E separator=, -E quote=d -E occurrence=f 'ip.src == 192.168.0.15 and ip.dst == 192.168.0.24 and ((tcp.flags.syn == 1 and tcp.window_size == 1024) or tcp.flags.reset == 1)' > /content/drive/MyDrive/ML/anomaly/attack/23.csv\n",
            "scan-hostport-6-dec.pcap  : All :  tshark -r /content/drive/MyDrive/ML/anomaly/packet/scan-hostport-6-dec.pcap -T fields -e frame.number -e frame.time_relative -e frame.len -e data.len -e ip.src -e ip.dst -e frame.protocols -E header=y -E separator=, -E quote=d -E occurrence=f > /content/drive/MyDrive/ML/anomaly/csv/24.csv\n",
            "scan-hostport-6-dec.pcap  : Attack :  tshark -r /content/drive/MyDrive/ML/anomaly/packet/scan-hostport-6-dec.pcap -T fields -e frame.number -e frame.time_relative -e frame.len -e data.len -e ip.src -e ip.dst -e frame.protocols -E header=y -E separator=, -E quote=d -E occurrence=f '(eth.src == f0:18:98:5e:ff:9f and arp and eth.dst == ff:ff:ff:ff:ff:ff) and frame.number < 1000' > /content/drive/MyDrive/ML/anomaly/attack/24.csv\n",
            "scan-hostport-6-dec.pcap  : All :  tshark -r /content/drive/MyDrive/ML/anomaly/packet/scan-hostport-6-dec.pcap -T fields -e frame.number -e frame.time_relative -e frame.len -e data.len -e ip.src -e ip.dst -e frame.protocols -E header=y -E separator=, -E quote=d -E occurrence=f > /content/drive/MyDrive/ML/anomaly/csv/25.csv\n",
            "scan-hostport-6-dec.pcap  : Attack :  tshark -r /content/drive/MyDrive/ML/anomaly/packet/scan-hostport-6-dec.pcap -T fields -e frame.number -e frame.time_relative -e frame.len -e data.len -e ip.src -e ip.dst -e frame.protocols -E header=y -E separator=, -E quote=d -E occurrence=f 'ip.src == 192.168.0.15 and ip.dst == 192.168.0.24 and ((tcp.flags.syn == 1 and tcp.window_size == 1024) or tcp.flags.reset == 1)' > /content/drive/MyDrive/ML/anomaly/attack/25.csv\n",
            "scan-portos-1-dec.pcap  : All :  tshark -r /content/drive/MyDrive/ML/anomaly/packet/scan-portos-1-dec.pcap -T fields -e frame.number -e frame.time_relative -e frame.len -e data.len -e ip.src -e ip.dst -e frame.protocols -E header=y -E separator=, -E quote=d -E occurrence=f > /content/drive/MyDrive/ML/anomaly/csv/26.csv\n",
            "scan-portos-1-dec.pcap  : Attack :  tshark -r /content/drive/MyDrive/ML/anomaly/packet/scan-portos-1-dec.pcap -T fields -e frame.number -e frame.time_relative -e frame.len -e data.len -e ip.src -e ip.dst -e frame.protocols -E header=y -E separator=, -E quote=d -E occurrence=f 'ip.src == 192.168.0.15 and ip.dst == 192.168.0.13 and ((tcp.flags.syn == 1 and tcp.window_size == 1024) or tcp.flags.reset == 1)' > /content/drive/MyDrive/ML/anomaly/attack/26.csv\n",
            "scan-portos-1-dec.pcap  : All :  tshark -r /content/drive/MyDrive/ML/anomaly/packet/scan-portos-1-dec.pcap -T fields -e frame.number -e frame.time_relative -e frame.len -e data.len -e ip.src -e ip.dst -e frame.protocols -E header=y -E separator=, -E quote=d -E occurrence=f > /content/drive/MyDrive/ML/anomaly/csv/27.csv\n",
            "scan-portos-1-dec.pcap  : Attack :  tshark -r /content/drive/MyDrive/ML/anomaly/packet/scan-portos-1-dec.pcap -T fields -e frame.number -e frame.time_relative -e frame.len -e data.len -e ip.src -e ip.dst -e frame.protocols -E header=y -E separator=, -E quote=d -E occurrence=f '(ip.src == 192.168.0.15 and ip.dst == 192.168.0.13) and (not icmp) and not (ip.src == 192.168.0.15 and ip.dst == 192.168.0.13 and ((tcp.flags.syn == 1 and tcp.window_size == 1024) or tcp.flags.reset == 1))' > /content/drive/MyDrive/ML/anomaly/attack/27.csv\n",
            "scan-portos-2-dec.pcap  : All :  tshark -r /content/drive/MyDrive/ML/anomaly/packet/scan-portos-2-dec.pcap -T fields -e frame.number -e frame.time_relative -e frame.len -e data.len -e ip.src -e ip.dst -e frame.protocols -E header=y -E separator=, -E quote=d -E occurrence=f > /content/drive/MyDrive/ML/anomaly/csv/28.csv\n",
            "scan-portos-2-dec.pcap  : Attack :  tshark -r /content/drive/MyDrive/ML/anomaly/packet/scan-portos-2-dec.pcap -T fields -e frame.number -e frame.time_relative -e frame.len -e data.len -e ip.src -e ip.dst -e frame.protocols -E header=y -E separator=, -E quote=d -E occurrence=f 'ip.src == 192.168.0.15 and ip.dst == 192.168.0.13 and ((tcp.flags.syn == 1 and tcp.window_size == 1024) or tcp.flags.reset == 1)' > /content/drive/MyDrive/ML/anomaly/attack/28.csv\n",
            "scan-portos-2-dec.pcap  : All :  tshark -r /content/drive/MyDrive/ML/anomaly/packet/scan-portos-2-dec.pcap -T fields -e frame.number -e frame.time_relative -e frame.len -e data.len -e ip.src -e ip.dst -e frame.protocols -E header=y -E separator=, -E quote=d -E occurrence=f > /content/drive/MyDrive/ML/anomaly/csv/29.csv\n",
            "scan-portos-2-dec.pcap  : Attack :  tshark -r /content/drive/MyDrive/ML/anomaly/packet/scan-portos-2-dec.pcap -T fields -e frame.number -e frame.time_relative -e frame.len -e data.len -e ip.src -e ip.dst -e frame.protocols -E header=y -E separator=, -E quote=d -E occurrence=f '(ip.src == 192.168.0.15 and ip.dst == 192.168.0.13) and (not icmp) and not (ip.src == 192.168.0.15 and ip.dst == 192.168.0.13 and ((tcp.flags.syn == 1 and tcp.window_size == 1024) or tcp.flags.reset == 1))' > /content/drive/MyDrive/ML/anomaly/attack/29.csv\n",
            "scan-portos-3-dec.pcap  : All :  tshark -r /content/drive/MyDrive/ML/anomaly/packet/scan-portos-3-dec.pcap -T fields -e frame.number -e frame.time_relative -e frame.len -e data.len -e ip.src -e ip.dst -e frame.protocols -E header=y -E separator=, -E quote=d -E occurrence=f > /content/drive/MyDrive/ML/anomaly/csv/30.csv\n",
            "scan-portos-3-dec.pcap  : Attack :  tshark -r /content/drive/MyDrive/ML/anomaly/packet/scan-portos-3-dec.pcap -T fields -e frame.number -e frame.time_relative -e frame.len -e data.len -e ip.src -e ip.dst -e frame.protocols -E header=y -E separator=, -E quote=d -E occurrence=f 'ip.src == 192.168.0.15 and ip.dst == 192.168.0.13 and ((tcp.flags.syn == 1 and tcp.window_size == 1024) or tcp.flags.reset == 1)' > /content/drive/MyDrive/ML/anomaly/attack/30.csv\n",
            "scan-portos-3-dec.pcap  : All :  tshark -r /content/drive/MyDrive/ML/anomaly/packet/scan-portos-3-dec.pcap -T fields -e frame.number -e frame.time_relative -e frame.len -e data.len -e ip.src -e ip.dst -e frame.protocols -E header=y -E separator=, -E quote=d -E occurrence=f > /content/drive/MyDrive/ML/anomaly/csv/31.csv\n",
            "scan-portos-3-dec.pcap  : Attack :  tshark -r /content/drive/MyDrive/ML/anomaly/packet/scan-portos-3-dec.pcap -T fields -e frame.number -e frame.time_relative -e frame.len -e data.len -e ip.src -e ip.dst -e frame.protocols -E header=y -E separator=, -E quote=d -E occurrence=f '(ip.src == 192.168.0.15 and ip.dst == 192.168.0.13) and (not icmp) and not (ip.src == 192.168.0.15 and ip.dst == 192.168.0.13 and ((tcp.flags.syn == 1 and tcp.window_size == 1024) or tcp.flags.reset == 1))' > /content/drive/MyDrive/ML/anomaly/attack/31.csv\n",
            "scan-portos-4-dec.pcap  : All :  tshark -r /content/drive/MyDrive/ML/anomaly/packet/scan-portos-4-dec.pcap -T fields -e frame.number -e frame.time_relative -e frame.len -e data.len -e ip.src -e ip.dst -e frame.protocols -E header=y -E separator=, -E quote=d -E occurrence=f > /content/drive/MyDrive/ML/anomaly/csv/32.csv\n",
            "scan-portos-4-dec.pcap  : Attack :  tshark -r /content/drive/MyDrive/ML/anomaly/packet/scan-portos-4-dec.pcap -T fields -e frame.number -e frame.time_relative -e frame.len -e data.len -e ip.src -e ip.dst -e frame.protocols -E header=y -E separator=, -E quote=d -E occurrence=f 'ip.src == 192.168.0.15 and ip.dst == 192.168.0.24 and ((tcp.flags.syn == 1 and tcp.window_size == 1024) or tcp.flags.reset == 1)' > /content/drive/MyDrive/ML/anomaly/attack/32.csv\n",
            "scan-portos-4-dec.pcap  : All :  tshark -r /content/drive/MyDrive/ML/anomaly/packet/scan-portos-4-dec.pcap -T fields -e frame.number -e frame.time_relative -e frame.len -e data.len -e ip.src -e ip.dst -e frame.protocols -E header=y -E separator=, -E quote=d -E occurrence=f > /content/drive/MyDrive/ML/anomaly/csv/33.csv\n",
            "scan-portos-4-dec.pcap  : Attack :  tshark -r /content/drive/MyDrive/ML/anomaly/packet/scan-portos-4-dec.pcap -T fields -e frame.number -e frame.time_relative -e frame.len -e data.len -e ip.src -e ip.dst -e frame.protocols -E header=y -E separator=, -E quote=d -E occurrence=f '(ip.src == 192.168.0.15 and ip.dst == 192.168.0.24) and (not icmp) and not (ip.src == 192.168.0.15 and ip.dst == 192.168.0.24 and ((tcp.flags.syn == 1 and tcp.window_size == 1024) or tcp.flags.reset == 1))' > /content/drive/MyDrive/ML/anomaly/attack/33.csv\n",
            "scan-portos-5-dec.pcap  : All :  tshark -r /content/drive/MyDrive/ML/anomaly/packet/scan-portos-5-dec.pcap -T fields -e frame.number -e frame.time_relative -e frame.len -e data.len -e ip.src -e ip.dst -e frame.protocols -E header=y -E separator=, -E quote=d -E occurrence=f > /content/drive/MyDrive/ML/anomaly/csv/34.csv\n",
            "scan-portos-5-dec.pcap  : Attack :  tshark -r /content/drive/MyDrive/ML/anomaly/packet/scan-portos-5-dec.pcap -T fields -e frame.number -e frame.time_relative -e frame.len -e data.len -e ip.src -e ip.dst -e frame.protocols -E header=y -E separator=, -E quote=d -E occurrence=f 'ip.src == 192.168.0.15 and ip.dst == 192.168.0.24 and ((tcp.flags.syn == 1 and tcp.window_size == 1024) or tcp.flags.reset == 1)' > /content/drive/MyDrive/ML/anomaly/attack/34.csv\n",
            "scan-portos-5-dec.pcap  : All :  tshark -r /content/drive/MyDrive/ML/anomaly/packet/scan-portos-5-dec.pcap -T fields -e frame.number -e frame.time_relative -e frame.len -e data.len -e ip.src -e ip.dst -e frame.protocols -E header=y -E separator=, -E quote=d -E occurrence=f > /content/drive/MyDrive/ML/anomaly/csv/35.csv\n",
            "scan-portos-5-dec.pcap  : Attack :  tshark -r /content/drive/MyDrive/ML/anomaly/packet/scan-portos-5-dec.pcap -T fields -e frame.number -e frame.time_relative -e frame.len -e data.len -e ip.src -e ip.dst -e frame.protocols -E header=y -E separator=, -E quote=d -E occurrence=f '(ip.src == 192.168.0.15 and ip.dst == 192.168.0.24) and (not icmp) and not (ip.src == 192.168.0.15 and ip.dst == 192.168.0.24 and ((tcp.flags.syn == 1 and tcp.window_size == 1024) or tcp.flags.reset == 1))' > /content/drive/MyDrive/ML/anomaly/attack/35.csv\n",
            "scan-portos-6-dec.pcap  : All :  tshark -r /content/drive/MyDrive/ML/anomaly/packet/scan-portos-6-dec.pcap -T fields -e frame.number -e frame.time_relative -e frame.len -e data.len -e ip.src -e ip.dst -e frame.protocols -E header=y -E separator=, -E quote=d -E occurrence=f > /content/drive/MyDrive/ML/anomaly/csv/36.csv\n",
            "scan-portos-6-dec.pcap  : Attack :  tshark -r /content/drive/MyDrive/ML/anomaly/packet/scan-portos-6-dec.pcap -T fields -e frame.number -e frame.time_relative -e frame.len -e data.len -e ip.src -e ip.dst -e frame.protocols -E header=y -E separator=, -E quote=d -E occurrence=f 'ip.src == 192.168.0.15 and ip.dst == 192.168.0.24 and ((tcp.flags.syn == 1 and tcp.window_size == 1024) or tcp.flags.reset == 1)' > /content/drive/MyDrive/ML/anomaly/attack/36.csv\n",
            "scan-portos-6-dec.pcap  : All :  tshark -r /content/drive/MyDrive/ML/anomaly/packet/scan-portos-6-dec.pcap -T fields -e frame.number -e frame.time_relative -e frame.len -e data.len -e ip.src -e ip.dst -e frame.protocols -E header=y -E separator=, -E quote=d -E occurrence=f > /content/drive/MyDrive/ML/anomaly/csv/37.csv\n",
            "scan-portos-6-dec.pcap  : Attack :  tshark -r /content/drive/MyDrive/ML/anomaly/packet/scan-portos-6-dec.pcap -T fields -e frame.number -e frame.time_relative -e frame.len -e data.len -e ip.src -e ip.dst -e frame.protocols -E header=y -E separator=, -E quote=d -E occurrence=f '(ip.src == 192.168.0.15 and ip.dst == 192.168.0.24) and (not icmp) and not (ip.src == 192.168.0.15 and ip.dst == 192.168.0.24 and ((tcp.flags.syn == 1 and tcp.window_size == 1024) or tcp.flags.reset == 1))' > /content/drive/MyDrive/ML/anomaly/attack/37.csv\n",
            "mirai-udpflooding-1-dec.pcap  : All :  tshark -r /content/drive/MyDrive/ML/anomaly/packet/mirai-udpflooding-1-dec.pcap -T fields -e frame.number -e frame.time_relative -e frame.len -e data.len -e ip.src -e ip.dst -e frame.protocols -E header=y -E separator=, -E quote=d -E occurrence=f > /content/drive/MyDrive/ML/anomaly/csv/38.csv\n",
            "mirai-udpflooding-1-dec.pcap  : Attack :  tshark -r /content/drive/MyDrive/ML/anomaly/packet/mirai-udpflooding-1-dec.pcap -T fields -e frame.number -e frame.time_relative -e frame.len -e data.len -e ip.src -e ip.dst -e frame.protocols -E header=y -E separator=, -E quote=d -E occurrence=f 'ip.dst == 210.89.164.90' > /content/drive/MyDrive/ML/anomaly/attack/38.csv\n",
            "mirai-udpflooding-2-dec.pcap  : All :  tshark -r /content/drive/MyDrive/ML/anomaly/packet/mirai-udpflooding-2-dec.pcap -T fields -e frame.number -e frame.time_relative -e frame.len -e data.len -e ip.src -e ip.dst -e frame.protocols -E header=y -E separator=, -E quote=d -E occurrence=f > /content/drive/MyDrive/ML/anomaly/csv/39.csv\n",
            "mirai-udpflooding-2-dec.pcap  : Attack :  tshark -r /content/drive/MyDrive/ML/anomaly/packet/mirai-udpflooding-2-dec.pcap -T fields -e frame.number -e frame.time_relative -e frame.len -e data.len -e ip.src -e ip.dst -e frame.protocols -E header=y -E separator=, -E quote=d -E occurrence=f 'ip.dst == 210.89.164.90' > /content/drive/MyDrive/ML/anomaly/attack/39.csv\n",
            "mirai-udpflooding-3-dec.pcap  : All :  tshark -r /content/drive/MyDrive/ML/anomaly/packet/mirai-udpflooding-3-dec.pcap -T fields -e frame.number -e frame.time_relative -e frame.len -e data.len -e ip.src -e ip.dst -e frame.protocols -E header=y -E separator=, -E quote=d -E occurrence=f > /content/drive/MyDrive/ML/anomaly/csv/40.csv\n",
            "mirai-udpflooding-3-dec.pcap  : Attack :  tshark -r /content/drive/MyDrive/ML/anomaly/packet/mirai-udpflooding-3-dec.pcap -T fields -e frame.number -e frame.time_relative -e frame.len -e data.len -e ip.src -e ip.dst -e frame.protocols -E header=y -E separator=, -E quote=d -E occurrence=f 'ip.dst == 210.89.164.90' > /content/drive/MyDrive/ML/anomaly/attack/40.csv\n",
            "mirai-udpflooding-4-dec.pcap  : All :  tshark -r /content/drive/MyDrive/ML/anomaly/packet/mirai-udpflooding-4-dec.pcap -T fields -e frame.number -e frame.time_relative -e frame.len -e data.len -e ip.src -e ip.dst -e frame.protocols -E header=y -E separator=, -E quote=d -E occurrence=f > /content/drive/MyDrive/ML/anomaly/csv/41.csv\n",
            "mirai-udpflooding-4-dec.pcap  : Attack :  tshark -r /content/drive/MyDrive/ML/anomaly/packet/mirai-udpflooding-4-dec.pcap -T fields -e frame.number -e frame.time_relative -e frame.len -e data.len -e ip.src -e ip.dst -e frame.protocols -E header=y -E separator=, -E quote=d -E occurrence=f 'ip.dst == 210.89.164.90' > /content/drive/MyDrive/ML/anomaly/attack/41.csv\n",
            "mirai-ackflooding-1-dec.pcap  : All :  tshark -r /content/drive/MyDrive/ML/anomaly/packet/mirai-ackflooding-1-dec.pcap -T fields -e frame.number -e frame.time_relative -e frame.len -e data.len -e ip.src -e ip.dst -e frame.protocols -E header=y -E separator=, -E quote=d -E occurrence=f > /content/drive/MyDrive/ML/anomaly/csv/42.csv\n",
            "mirai-ackflooding-1-dec.pcap  : Attack :  tshark -r /content/drive/MyDrive/ML/anomaly/packet/mirai-ackflooding-1-dec.pcap -T fields -e frame.number -e frame.time_relative -e frame.len -e data.len -e ip.src -e ip.dst -e frame.protocols -E header=y -E separator=, -E quote=d -E occurrence=f 'ip.dst == 210.89.164.90' > /content/drive/MyDrive/ML/anomaly/attack/42.csv\n",
            "mirai-ackflooding-2-dec.pcap  : All :  tshark -r /content/drive/MyDrive/ML/anomaly/packet/mirai-ackflooding-2-dec.pcap -T fields -e frame.number -e frame.time_relative -e frame.len -e data.len -e ip.src -e ip.dst -e frame.protocols -E header=y -E separator=, -E quote=d -E occurrence=f > /content/drive/MyDrive/ML/anomaly/csv/43.csv\n",
            "mirai-ackflooding-2-dec.pcap  : Attack :  tshark -r /content/drive/MyDrive/ML/anomaly/packet/mirai-ackflooding-2-dec.pcap -T fields -e frame.number -e frame.time_relative -e frame.len -e data.len -e ip.src -e ip.dst -e frame.protocols -E header=y -E separator=, -E quote=d -E occurrence=f 'ip.dst == 210.89.164.90' > /content/drive/MyDrive/ML/anomaly/attack/43.csv\n",
            "mirai-ackflooding-3-dec.pcap  : All :  tshark -r /content/drive/MyDrive/ML/anomaly/packet/mirai-ackflooding-3-dec.pcap -T fields -e frame.number -e frame.time_relative -e frame.len -e data.len -e ip.src -e ip.dst -e frame.protocols -E header=y -E separator=, -E quote=d -E occurrence=f > /content/drive/MyDrive/ML/anomaly/csv/44.csv\n",
            "mirai-ackflooding-3-dec.pcap  : Attack :  tshark -r /content/drive/MyDrive/ML/anomaly/packet/mirai-ackflooding-3-dec.pcap -T fields -e frame.number -e frame.time_relative -e frame.len -e data.len -e ip.src -e ip.dst -e frame.protocols -E header=y -E separator=, -E quote=d -E occurrence=f 'ip.dst == 210.89.164.90' > /content/drive/MyDrive/ML/anomaly/attack/44.csv\n",
            "mirai-ackflooding-4-dec.pcap  : All :  tshark -r /content/drive/MyDrive/ML/anomaly/packet/mirai-ackflooding-4-dec.pcap -T fields -e frame.number -e frame.time_relative -e frame.len -e data.len -e ip.src -e ip.dst -e frame.protocols -E header=y -E separator=, -E quote=d -E occurrence=f > /content/drive/MyDrive/ML/anomaly/csv/45.csv\n",
            "mirai-ackflooding-4-dec.pcap  : Attack :  tshark -r /content/drive/MyDrive/ML/anomaly/packet/mirai-ackflooding-4-dec.pcap -T fields -e frame.number -e frame.time_relative -e frame.len -e data.len -e ip.src -e ip.dst -e frame.protocols -E header=y -E separator=, -E quote=d -E occurrence=f 'ip.dst == 210.89.164.90' > /content/drive/MyDrive/ML/anomaly/attack/45.csv\n",
            "mirai-httpflooding-1-dec.pcap  : All :  tshark -r /content/drive/MyDrive/ML/anomaly/packet/mirai-httpflooding-1-dec.pcap -T fields -e frame.number -e frame.time_relative -e frame.len -e data.len -e ip.src -e ip.dst -e frame.protocols -E header=y -E separator=, -E quote=d -E occurrence=f > /content/drive/MyDrive/ML/anomaly/csv/46.csv\n",
            "mirai-httpflooding-1-dec.pcap  : Attack :  tshark -r /content/drive/MyDrive/ML/anomaly/packet/mirai-httpflooding-1-dec.pcap -T fields -e frame.number -e frame.time_relative -e frame.len -e data.len -e ip.src -e ip.dst -e frame.protocols -E header=y -E separator=, -E quote=d -E occurrence=f 'ip.dst == 210.89.164.90' > /content/drive/MyDrive/ML/anomaly/attack/46.csv\n",
            "mirai-httpflooding-2-dec.pcap  : All :  tshark -r /content/drive/MyDrive/ML/anomaly/packet/mirai-httpflooding-2-dec.pcap -T fields -e frame.number -e frame.time_relative -e frame.len -e data.len -e ip.src -e ip.dst -e frame.protocols -E header=y -E separator=, -E quote=d -E occurrence=f > /content/drive/MyDrive/ML/anomaly/csv/47.csv\n",
            "mirai-httpflooding-2-dec.pcap  : Attack :  tshark -r /content/drive/MyDrive/ML/anomaly/packet/mirai-httpflooding-2-dec.pcap -T fields -e frame.number -e frame.time_relative -e frame.len -e data.len -e ip.src -e ip.dst -e frame.protocols -E header=y -E separator=, -E quote=d -E occurrence=f 'ip.dst == 210.89.164.90' > /content/drive/MyDrive/ML/anomaly/attack/47.csv\n",
            "mirai-httpflooding-3-dec.pcap  : All :  tshark -r /content/drive/MyDrive/ML/anomaly/packet/mirai-httpflooding-3-dec.pcap -T fields -e frame.number -e frame.time_relative -e frame.len -e data.len -e ip.src -e ip.dst -e frame.protocols -E header=y -E separator=, -E quote=d -E occurrence=f > /content/drive/MyDrive/ML/anomaly/csv/48.csv\n",
            "mirai-httpflooding-3-dec.pcap  : Attack :  tshark -r /content/drive/MyDrive/ML/anomaly/packet/mirai-httpflooding-3-dec.pcap -T fields -e frame.number -e frame.time_relative -e frame.len -e data.len -e ip.src -e ip.dst -e frame.protocols -E header=y -E separator=, -E quote=d -E occurrence=f 'ip.dst == 210.89.164.90' > /content/drive/MyDrive/ML/anomaly/attack/48.csv\n",
            "mirai-httpflooding-4-dec.pcap  : All :  tshark -r /content/drive/MyDrive/ML/anomaly/packet/mirai-httpflooding-4-dec.pcap -T fields -e frame.number -e frame.time_relative -e frame.len -e data.len -e ip.src -e ip.dst -e frame.protocols -E header=y -E separator=, -E quote=d -E occurrence=f > /content/drive/MyDrive/ML/anomaly/csv/49.csv\n",
            "mirai-httpflooding-4-dec.pcap  : Attack :  tshark -r /content/drive/MyDrive/ML/anomaly/packet/mirai-httpflooding-4-dec.pcap -T fields -e frame.number -e frame.time_relative -e frame.len -e data.len -e ip.src -e ip.dst -e frame.protocols -E header=y -E separator=, -E quote=d -E occurrence=f 'ip.dst == 210.89.164.90' > /content/drive/MyDrive/ML/anomaly/attack/49.csv\n",
            "mirai-hostbruteforce-1-dec.pcap  : All :  tshark -r /content/drive/MyDrive/ML/anomaly/packet/mirai-hostbruteforce-1-dec.pcap -T fields -e frame.number -e frame.time_relative -e frame.len -e data.len -e ip.src -e ip.dst -e frame.protocols -E header=y -E separator=, -E quote=d -E occurrence=f > /content/drive/MyDrive/ML/anomaly/csv/50.csv\n",
            "mirai-hostbruteforce-1-dec.pcap  : Attack :  tshark -r /content/drive/MyDrive/ML/anomaly/packet/mirai-hostbruteforce-1-dec.pcap -T fields -e frame.number -e frame.time_relative -e frame.len -e data.len -e ip.src -e ip.dst -e frame.protocols -E header=y -E separator=, -E quote=d -E occurrence=f 'arp.dst.proto_ipv4 == 192.168.0.0/24 and arp.src.proto_ipv4 == 192.168.0.13 and eth.dst == ff:ff:ff:ff:ff:ff' > /content/drive/MyDrive/ML/anomaly/attack/50.csv\n",
            "mirai-hostbruteforce-1-dec.pcap  : All :  tshark -r /content/drive/MyDrive/ML/anomaly/packet/mirai-hostbruteforce-1-dec.pcap -T fields -e frame.number -e frame.time_relative -e frame.len -e data.len -e ip.src -e ip.dst -e frame.protocols -E header=y -E separator=, -E quote=d -E occurrence=f > /content/drive/MyDrive/ML/anomaly/csv/51.csv\n",
            "mirai-hostbruteforce-1-dec.pcap  : Attack :  tshark -r /content/drive/MyDrive/ML/anomaly/packet/mirai-hostbruteforce-1-dec.pcap -T fields -e frame.number -e frame.time_relative -e frame.len -e data.len -e ip.src -e ip.dst -e frame.protocols -E header=y -E separator=, -E quote=d -E occurrence=f 'tcp.dstport==23 and ip.src==192.168.0.13' > /content/drive/MyDrive/ML/anomaly/attack/51.csv\n",
            "mirai-hostbruteforce-2-dec.pcap  : All :  tshark -r /content/drive/MyDrive/ML/anomaly/packet/mirai-hostbruteforce-2-dec.pcap -T fields -e frame.number -e frame.time_relative -e frame.len -e data.len -e ip.src -e ip.dst -e frame.protocols -E header=y -E separator=, -E quote=d -E occurrence=f > /content/drive/MyDrive/ML/anomaly/csv/52.csv\n",
            "mirai-hostbruteforce-2-dec.pcap  : Attack :  tshark -r /content/drive/MyDrive/ML/anomaly/packet/mirai-hostbruteforce-2-dec.pcap -T fields -e frame.number -e frame.time_relative -e frame.len -e data.len -e ip.src -e ip.dst -e frame.protocols -E header=y -E separator=, -E quote=d -E occurrence=f 'arp.dst.proto_ipv4 == 192.168.0.0/24 and arp.src.proto_ipv4 == 192.168.0.24 and eth.dst == ff:ff:ff:ff:ff:ff' > /content/drive/MyDrive/ML/anomaly/attack/52.csv\n",
            "mirai-hostbruteforce-2-dec.pcap  : All :  tshark -r /content/drive/MyDrive/ML/anomaly/packet/mirai-hostbruteforce-2-dec.pcap -T fields -e frame.number -e frame.time_relative -e frame.len -e data.len -e ip.src -e ip.dst -e frame.protocols -E header=y -E separator=, -E quote=d -E occurrence=f > /content/drive/MyDrive/ML/anomaly/csv/53.csv\n",
            "mirai-hostbruteforce-2-dec.pcap  : Attack :  tshark -r /content/drive/MyDrive/ML/anomaly/packet/mirai-hostbruteforce-2-dec.pcap -T fields -e frame.number -e frame.time_relative -e frame.len -e data.len -e ip.src -e ip.dst -e frame.protocols -E header=y -E separator=, -E quote=d -E occurrence=f 'tcp.dstport==23 and ip.src==192.168.0.24' > /content/drive/MyDrive/ML/anomaly/attack/53.csv\n",
            "mirai-hostbruteforce-3-dec.pcap  : All :  tshark -r /content/drive/MyDrive/ML/anomaly/packet/mirai-hostbruteforce-3-dec.pcap -T fields -e frame.number -e frame.time_relative -e frame.len -e data.len -e ip.src -e ip.dst -e frame.protocols -E header=y -E separator=, -E quote=d -E occurrence=f > /content/drive/MyDrive/ML/anomaly/csv/54.csv\n",
            "mirai-hostbruteforce-3-dec.pcap  : Attack :  tshark -r /content/drive/MyDrive/ML/anomaly/packet/mirai-hostbruteforce-3-dec.pcap -T fields -e frame.number -e frame.time_relative -e frame.len -e data.len -e ip.src -e ip.dst -e frame.protocols -E header=y -E separator=, -E quote=d -E occurrence=f 'arp.dst.proto_ipv4 == 192.168.0.0/24 and arp.src.proto_ipv4 == 192.168.0.13 and eth.dst == ff:ff:ff:ff:ff:ff' > /content/drive/MyDrive/ML/anomaly/attack/54.csv\n",
            "mirai-hostbruteforce-3-dec.pcap  : All :  tshark -r /content/drive/MyDrive/ML/anomaly/packet/mirai-hostbruteforce-3-dec.pcap -T fields -e frame.number -e frame.time_relative -e frame.len -e data.len -e ip.src -e ip.dst -e frame.protocols -E header=y -E separator=, -E quote=d -E occurrence=f > /content/drive/MyDrive/ML/anomaly/csv/55.csv\n",
            "mirai-hostbruteforce-3-dec.pcap  : Attack :  tshark -r /content/drive/MyDrive/ML/anomaly/packet/mirai-hostbruteforce-3-dec.pcap -T fields -e frame.number -e frame.time_relative -e frame.len -e data.len -e ip.src -e ip.dst -e frame.protocols -E header=y -E separator=, -E quote=d -E occurrence=f 'tcp.dstport==23 and ip.src==192.168.0.13' > /content/drive/MyDrive/ML/anomaly/attack/55.csv\n",
            "mirai-hostbruteforce-4-dec.pcap  : All :  tshark -r /content/drive/MyDrive/ML/anomaly/packet/mirai-hostbruteforce-4-dec.pcap -T fields -e frame.number -e frame.time_relative -e frame.len -e data.len -e ip.src -e ip.dst -e frame.protocols -E header=y -E separator=, -E quote=d -E occurrence=f > /content/drive/MyDrive/ML/anomaly/csv/56.csv\n",
            "mirai-hostbruteforce-4-dec.pcap  : Attack :  tshark -r /content/drive/MyDrive/ML/anomaly/packet/mirai-hostbruteforce-4-dec.pcap -T fields -e frame.number -e frame.time_relative -e frame.len -e data.len -e ip.src -e ip.dst -e frame.protocols -E header=y -E separator=, -E quote=d -E occurrence=f 'arp.dst.proto_ipv4 == 192.168.0.0/24 and arp.src.proto_ipv4 == 192.168.0.24 and eth.dst == ff:ff:ff:ff:ff:ff' > /content/drive/MyDrive/ML/anomaly/attack/56.csv\n",
            "mirai-hostbruteforce-4-dec.pcap  : All :  tshark -r /content/drive/MyDrive/ML/anomaly/packet/mirai-hostbruteforce-4-dec.pcap -T fields -e frame.number -e frame.time_relative -e frame.len -e data.len -e ip.src -e ip.dst -e frame.protocols -E header=y -E separator=, -E quote=d -E occurrence=f > /content/drive/MyDrive/ML/anomaly/csv/57.csv\n",
            "mirai-hostbruteforce-4-dec.pcap  : Attack :  tshark -r /content/drive/MyDrive/ML/anomaly/packet/mirai-hostbruteforce-4-dec.pcap -T fields -e frame.number -e frame.time_relative -e frame.len -e data.len -e ip.src -e ip.dst -e frame.protocols -E header=y -E separator=, -E quote=d -E occurrence=f 'tcp.dstport==23 and ip.src==192.168.0.24' > /content/drive/MyDrive/ML/anomaly/attack/57.csv\n",
            "mirai-hostbruteforce-5-dec.pcap  : All :  tshark -r /content/drive/MyDrive/ML/anomaly/packet/mirai-hostbruteforce-5-dec.pcap -T fields -e frame.number -e frame.time_relative -e frame.len -e data.len -e ip.src -e ip.dst -e frame.protocols -E header=y -E separator=, -E quote=d -E occurrence=f > /content/drive/MyDrive/ML/anomaly/csv/58.csv\n",
            "mirai-hostbruteforce-5-dec.pcap  : Attack :  tshark -r /content/drive/MyDrive/ML/anomaly/packet/mirai-hostbruteforce-5-dec.pcap -T fields -e frame.number -e frame.time_relative -e frame.len -e data.len -e ip.src -e ip.dst -e frame.protocols -E header=y -E separator=, -E quote=d -E occurrence=f 'arp.dst.proto_ipv4 == 192.168.0.0/24 and arp.src.proto_ipv4 == 192.168.0.13 and eth.dst == ff:ff:ff:ff:ff:ff' > /content/drive/MyDrive/ML/anomaly/attack/58.csv\n",
            "mirai-hostbruteforce-5-dec.pcap  : All :  tshark -r /content/drive/MyDrive/ML/anomaly/packet/mirai-hostbruteforce-5-dec.pcap -T fields -e frame.number -e frame.time_relative -e frame.len -e data.len -e ip.src -e ip.dst -e frame.protocols -E header=y -E separator=, -E quote=d -E occurrence=f > /content/drive/MyDrive/ML/anomaly/csv/59.csv\n",
            "mirai-hostbruteforce-5-dec.pcap  : Attack :  tshark -r /content/drive/MyDrive/ML/anomaly/packet/mirai-hostbruteforce-5-dec.pcap -T fields -e frame.number -e frame.time_relative -e frame.len -e data.len -e ip.src -e ip.dst -e frame.protocols -E header=y -E separator=, -E quote=d -E occurrence=f 'tcp.dstport==23 and ip.src==192.168.0.13' > /content/drive/MyDrive/ML/anomaly/attack/59.csv\n"
          ],
          "name": "stdout"
        }
      ]
    },
    {
      "cell_type": "code",
      "metadata": {
        "colab": {
          "base_uri": "https://localhost:8080/"
        },
        "id": "3XapVZ79AQLt",
        "outputId": "57d64cff-d8f0-42db-b6ae-9c52f7903742"
      },
      "source": [
        "csv_location = base_url + all_key\n",
        "attack_location = base_url + attack_key\n",
        "normal_location = base_url + 'normal/'\n",
        "print(csv_location, attack_location)"
      ],
      "execution_count": 9,
      "outputs": [
        {
          "output_type": "stream",
          "text": [
            "/content/drive/MyDrive/ML/anomaly/csv/ /content/drive/MyDrive/ML/anomaly/attack/\n"
          ],
          "name": "stdout"
        }
      ]
    },
    {
      "cell_type": "code",
      "metadata": {
        "colab": {
          "base_uri": "https://localhost:8080/"
        },
        "id": "8MJYgKIqAyFg",
        "outputId": "cc69b37f-a1b1-4eaa-d64f-45c7e50f8570"
      },
      "source": [
        "for i in range(1, tot_file) :\n",
        "  attack_file = attack_location + str(desc_arr[i][0]) + \".csv\"\n",
        "  csv_file = csv_location + str(desc_arr[i][0]) + \".csv\"\n",
        "  normal_file = normal_location + str(desc_arr[i][0]) + \".csv\"\n",
        "\n",
        "  print(\"Running for : \\t\", normal_file)\n",
        "  print(\"Attack : \\t\", attack_file)\n",
        "  print(\"All : \\t\\t\", csv_file)\n",
        "  attack = pd.read_csv(attack_file)\n",
        "  all = pd.read_csv(csv_file)\n",
        "\n",
        "  print(\"All shape before dropping records : \", all.shape)\n",
        "\n",
        "  attack_frames = attack['frame.number']\n",
        "  index_to_drop = []\n",
        "\n",
        "  for i in range(len(attack_frames)) :\n",
        "    frame_num = attack_frames[i]\n",
        "    index = all[ all['frame.number'] == frame_num ].index[0]\n",
        "    index_to_drop.append(index)  \n",
        "  \n",
        "  all.drop(index_to_drop , inplace=True)\n",
        "  print(\"All shape after dropping records : \", all.shape, \"\\n\")\n",
        "  all.to_csv(normal_file)\n"
      ],
      "execution_count": 11,
      "outputs": [
        {
          "output_type": "stream",
          "text": [
            "Running for : \t /content/drive/MyDrive/ML/anomaly/normal/2.csv\n",
            "Attack : \t /content/drive/MyDrive/ML/anomaly/attack/2.csv\n",
            "All : \t\t /content/drive/MyDrive/ML/anomaly/csv/2.csv\n",
            "All shape before dropping records :  (65768, 7)\n",
            "All shape after dropping records :  (30913, 7) \n",
            "\n",
            "Running for : \t /content/drive/MyDrive/ML/anomaly/normal/3.csv\n",
            "Attack : \t /content/drive/MyDrive/ML/anomaly/attack/3.csv\n",
            "All : \t\t /content/drive/MyDrive/ML/anomaly/csv/3.csv\n",
            "All shape before dropping records :  (33121, 7)\n",
            "All shape after dropping records :  (19987, 7) \n",
            "\n",
            "Running for : \t /content/drive/MyDrive/ML/anomaly/normal/4.csv\n",
            "Attack : \t /content/drive/MyDrive/ML/anomaly/attack/4.csv\n",
            "All : \t\t /content/drive/MyDrive/ML/anomaly/csv/4.csv\n",
            "All shape before dropping records :  (34043, 7)\n",
            "All shape after dropping records :  (18899, 7) \n",
            "\n",
            "Running for : \t /content/drive/MyDrive/ML/anomaly/normal/5.csv\n",
            "Attack : \t /content/drive/MyDrive/ML/anomaly/attack/5.csv\n",
            "All : \t\t /content/drive/MyDrive/ML/anomaly/csv/5.csv\n",
            "All shape before dropping records :  (19914, 7)\n",
            "All shape after dropping records :  (6703, 7) \n",
            "\n",
            "Running for : \t /content/drive/MyDrive/ML/anomaly/normal/6.csv\n",
            "Attack : \t /content/drive/MyDrive/ML/anomaly/attack/6.csv\n",
            "All : \t\t /content/drive/MyDrive/ML/anomaly/csv/6.csv\n",
            "All shape before dropping records :  (20314, 7)\n",
            "All shape after dropping records :  (10571, 7) \n",
            "\n",
            "Running for : \t /content/drive/MyDrive/ML/anomaly/normal/7.csv\n",
            "Attack : \t /content/drive/MyDrive/ML/anomaly/attack/7.csv\n",
            "All : \t\t /content/drive/MyDrive/ML/anomaly/csv/7.csv\n",
            "All shape before dropping records :  (21024, 7)\n",
            "All shape after dropping records :  (5226, 7) \n",
            "\n",
            "Running for : \t /content/drive/MyDrive/ML/anomaly/normal/8.csv\n",
            "Attack : \t /content/drive/MyDrive/ML/anomaly/attack/8.csv\n",
            "All : \t\t /content/drive/MyDrive/ML/anomaly/csv/8.csv\n",
            "All shape before dropping records :  (40788, 7)\n",
            "All shape after dropping records :  (22085, 7) \n",
            "\n",
            "Running for : \t /content/drive/MyDrive/ML/anomaly/normal/9.csv\n",
            "Attack : \t /content/drive/MyDrive/ML/anomaly/attack/9.csv\n",
            "All : \t\t /content/drive/MyDrive/ML/anomaly/csv/9.csv\n",
            "All shape before dropping records :  (39742, 7)\n",
            "All shape after dropping records :  (22880, 7) \n",
            "\n",
            "Running for : \t /content/drive/MyDrive/ML/anomaly/normal/10.csv\n",
            "Attack : \t /content/drive/MyDrive/ML/anomaly/attack/10.csv\n",
            "All : \t\t /content/drive/MyDrive/ML/anomaly/csv/10.csv\n",
            "All shape before dropping records :  (26334, 7)\n",
            "All shape after dropping records :  (13796, 7) \n",
            "\n",
            "Running for : \t /content/drive/MyDrive/ML/anomaly/normal/11.csv\n",
            "Attack : \t /content/drive/MyDrive/ML/anomaly/attack/11.csv\n",
            "All : \t\t /content/drive/MyDrive/ML/anomaly/csv/11.csv\n",
            "All shape before dropping records :  (10561, 7)\n",
            "All shape after dropping records :  (5869, 7) \n",
            "\n",
            "Running for : \t /content/drive/MyDrive/ML/anomaly/normal/12.csv\n",
            "Attack : \t /content/drive/MyDrive/ML/anomaly/attack/12.csv\n",
            "All : \t\t /content/drive/MyDrive/ML/anomaly/csv/12.csv\n",
            "All shape before dropping records :  (11366, 7)\n",
            "All shape after dropping records :  (5818, 7) \n",
            "\n",
            "Running for : \t /content/drive/MyDrive/ML/anomaly/normal/13.csv\n",
            "Attack : \t /content/drive/MyDrive/ML/anomaly/attack/13.csv\n",
            "All : \t\t /content/drive/MyDrive/ML/anomaly/csv/13.csv\n",
            "All shape before dropping records :  (12918, 7)\n",
            "All shape after dropping records :  (6615, 7) \n",
            "\n",
            "Running for : \t /content/drive/MyDrive/ML/anomaly/normal/14.csv\n",
            "Attack : \t /content/drive/MyDrive/ML/anomaly/attack/14.csv\n",
            "All : \t\t /content/drive/MyDrive/ML/anomaly/csv/14.csv\n",
            "All shape before dropping records :  (29352, 7)\n",
            "All shape after dropping records :  (28918, 7) \n",
            "\n",
            "Running for : \t /content/drive/MyDrive/ML/anomaly/normal/15.csv\n",
            "Attack : \t /content/drive/MyDrive/ML/anomaly/attack/15.csv\n",
            "All : \t\t /content/drive/MyDrive/ML/anomaly/csv/15.csv\n",
            "All shape before dropping records :  (29352, 7)\n",
            "All shape after dropping records :  (28296, 7) \n",
            "\n",
            "Running for : \t /content/drive/MyDrive/ML/anomaly/normal/16.csv\n",
            "Attack : \t /content/drive/MyDrive/ML/anomaly/attack/16.csv\n",
            "All : \t\t /content/drive/MyDrive/ML/anomaly/csv/16.csv\n",
            "All shape before dropping records :  (37106, 7)\n",
            "All shape after dropping records :  (36774, 7) \n",
            "\n",
            "Running for : \t /content/drive/MyDrive/ML/anomaly/normal/17.csv\n",
            "Attack : \t /content/drive/MyDrive/ML/anomaly/attack/17.csv\n",
            "All : \t\t /content/drive/MyDrive/ML/anomaly/csv/17.csv\n",
            "All shape before dropping records :  (37106, 7)\n",
            "All shape after dropping records :  (34737, 7) \n",
            "\n",
            "Running for : \t /content/drive/MyDrive/ML/anomaly/normal/18.csv\n",
            "Attack : \t /content/drive/MyDrive/ML/anomaly/attack/18.csv\n",
            "All : \t\t /content/drive/MyDrive/ML/anomaly/csv/18.csv\n",
            "All shape before dropping records :  (13555, 7)\n",
            "All shape after dropping records :  (13067, 7) \n",
            "\n",
            "Running for : \t /content/drive/MyDrive/ML/anomaly/normal/19.csv\n",
            "Attack : \t /content/drive/MyDrive/ML/anomaly/attack/19.csv\n",
            "All : \t\t /content/drive/MyDrive/ML/anomaly/csv/19.csv\n",
            "All shape before dropping records :  (13555, 7)\n",
            "All shape after dropping records :  (12313, 7) \n",
            "\n",
            "Running for : \t /content/drive/MyDrive/ML/anomaly/normal/20.csv\n",
            "Attack : \t /content/drive/MyDrive/ML/anomaly/attack/20.csv\n",
            "All : \t\t /content/drive/MyDrive/ML/anomaly/csv/20.csv\n",
            "All shape before dropping records :  (7801, 7)\n",
            "All shape after dropping records :  (7324, 7) \n",
            "\n",
            "Running for : \t /content/drive/MyDrive/ML/anomaly/normal/21.csv\n",
            "Attack : \t /content/drive/MyDrive/ML/anomaly/attack/21.csv\n",
            "All : \t\t /content/drive/MyDrive/ML/anomaly/csv/21.csv\n",
            "All shape before dropping records :  (7801, 7)\n",
            "All shape after dropping records :  (6571, 7) \n",
            "\n",
            "Running for : \t /content/drive/MyDrive/ML/anomaly/normal/22.csv\n",
            "Attack : \t /content/drive/MyDrive/ML/anomaly/attack/22.csv\n",
            "All : \t\t /content/drive/MyDrive/ML/anomaly/csv/22.csv\n",
            "All shape before dropping records :  (4760, 7)\n",
            "All shape after dropping records :  (4322, 7) \n",
            "\n",
            "Running for : \t /content/drive/MyDrive/ML/anomaly/normal/23.csv\n",
            "Attack : \t /content/drive/MyDrive/ML/anomaly/attack/23.csv\n",
            "All : \t\t /content/drive/MyDrive/ML/anomaly/csv/23.csv\n",
            "All shape before dropping records :  (4760, 7)\n",
            "All shape after dropping records :  (2987, 7) \n",
            "\n",
            "Running for : \t /content/drive/MyDrive/ML/anomaly/normal/24.csv\n",
            "Attack : \t /content/drive/MyDrive/ML/anomaly/attack/24.csv\n",
            "All : \t\t /content/drive/MyDrive/ML/anomaly/csv/24.csv\n",
            "All shape before dropping records :  (6828, 7)\n",
            "All shape after dropping records :  (6543, 7) \n",
            "\n",
            "Running for : \t /content/drive/MyDrive/ML/anomaly/normal/25.csv\n",
            "Attack : \t /content/drive/MyDrive/ML/anomaly/attack/25.csv\n",
            "All : \t\t /content/drive/MyDrive/ML/anomaly/csv/25.csv\n",
            "All shape before dropping records :  (6828, 7)\n",
            "All shape after dropping records :  (4712, 7) \n",
            "\n",
            "Running for : \t /content/drive/MyDrive/ML/anomaly/normal/26.csv\n",
            "Attack : \t /content/drive/MyDrive/ML/anomaly/attack/26.csv\n",
            "All : \t\t /content/drive/MyDrive/ML/anomaly/csv/26.csv\n",
            "All shape before dropping records :  (73235, 7)\n",
            "All shape after dropping records :  (72139, 7) \n",
            "\n",
            "Running for : \t /content/drive/MyDrive/ML/anomaly/normal/27.csv\n",
            "Attack : \t /content/drive/MyDrive/ML/anomaly/attack/27.csv\n",
            "All : \t\t /content/drive/MyDrive/ML/anomaly/csv/27.csv\n",
            "All shape before dropping records :  (73235, 7)\n",
            "All shape after dropping records :  (72760, 7) \n",
            "\n",
            "Running for : \t /content/drive/MyDrive/ML/anomaly/normal/28.csv\n",
            "Attack : \t /content/drive/MyDrive/ML/anomaly/attack/28.csv\n",
            "All : \t\t /content/drive/MyDrive/ML/anomaly/csv/28.csv\n",
            "All shape before dropping records :  (48267, 7)\n",
            "All shape after dropping records :  (47190, 7) \n",
            "\n",
            "Running for : \t /content/drive/MyDrive/ML/anomaly/normal/29.csv\n",
            "Attack : \t /content/drive/MyDrive/ML/anomaly/attack/29.csv\n",
            "All : \t\t /content/drive/MyDrive/ML/anomaly/csv/29.csv\n",
            "All shape before dropping records :  (48267, 7)\n",
            "All shape after dropping records :  (47627, 7) \n",
            "\n",
            "Running for : \t /content/drive/MyDrive/ML/anomaly/normal/30.csv\n",
            "Attack : \t /content/drive/MyDrive/ML/anomaly/attack/30.csv\n",
            "All : \t\t /content/drive/MyDrive/ML/anomaly/csv/30.csv\n",
            "All shape before dropping records :  (65194, 7)\n",
            "All shape after dropping records :  (64106, 7) \n",
            "\n",
            "Running for : \t /content/drive/MyDrive/ML/anomaly/normal/31.csv\n",
            "Attack : \t /content/drive/MyDrive/ML/anomaly/attack/31.csv\n",
            "All : \t\t /content/drive/MyDrive/ML/anomaly/csv/31.csv\n",
            "All shape before dropping records :  (65194, 7)\n",
            "All shape after dropping records :  (64589, 7) \n",
            "\n",
            "Running for : \t /content/drive/MyDrive/ML/anomaly/normal/32.csv\n",
            "Attack : \t /content/drive/MyDrive/ML/anomaly/attack/32.csv\n",
            "All : \t\t /content/drive/MyDrive/ML/anomaly/csv/32.csv\n",
            "All shape before dropping records :  (3046, 7)\n",
            "All shape after dropping records :  (1986, 7) \n",
            "\n",
            "Running for : \t /content/drive/MyDrive/ML/anomaly/normal/33.csv\n",
            "Attack : \t /content/drive/MyDrive/ML/anomaly/attack/33.csv\n",
            "All : \t\t /content/drive/MyDrive/ML/anomaly/csv/33.csv\n",
            "All shape before dropping records :  (3046, 7)\n",
            "All shape after dropping records :  (3015, 7) \n",
            "\n",
            "Running for : \t /content/drive/MyDrive/ML/anomaly/normal/34.csv\n",
            "Attack : \t /content/drive/MyDrive/ML/anomaly/attack/34.csv\n",
            "All : \t\t /content/drive/MyDrive/ML/anomaly/csv/34.csv\n",
            "All shape before dropping records :  (8966, 7)\n",
            "All shape after dropping records :  (5234, 7) \n",
            "\n",
            "Running for : \t /content/drive/MyDrive/ML/anomaly/normal/35.csv\n",
            "Attack : \t /content/drive/MyDrive/ML/anomaly/attack/35.csv\n",
            "All : \t\t /content/drive/MyDrive/ML/anomaly/csv/35.csv\n",
            "All shape before dropping records :  (8966, 7)\n",
            "All shape after dropping records :  (8949, 7) \n",
            "\n",
            "Running for : \t /content/drive/MyDrive/ML/anomaly/normal/36.csv\n",
            "Attack : \t /content/drive/MyDrive/ML/anomaly/attack/36.csv\n",
            "All : \t\t /content/drive/MyDrive/ML/anomaly/csv/36.csv\n",
            "All shape before dropping records :  (12370, 7)\n",
            "All shape after dropping records :  (9270, 7) \n",
            "\n",
            "Running for : \t /content/drive/MyDrive/ML/anomaly/normal/37.csv\n",
            "Attack : \t /content/drive/MyDrive/ML/anomaly/attack/37.csv\n",
            "All : \t\t /content/drive/MyDrive/ML/anomaly/csv/37.csv\n",
            "All shape before dropping records :  (12370, 7)\n",
            "All shape after dropping records :  (12321, 7) \n",
            "\n",
            "Running for : \t /content/drive/MyDrive/ML/anomaly/normal/38.csv\n",
            "Attack : \t /content/drive/MyDrive/ML/anomaly/attack/38.csv\n",
            "All : \t\t /content/drive/MyDrive/ML/anomaly/csv/38.csv\n",
            "All shape before dropping records :  (417863, 7)\n",
            "All shape after dropping records :  (13000, 7) \n",
            "\n",
            "Running for : \t /content/drive/MyDrive/ML/anomaly/normal/39.csv\n",
            "Attack : \t /content/drive/MyDrive/ML/anomaly/attack/39.csv\n",
            "All : \t\t /content/drive/MyDrive/ML/anomaly/csv/39.csv\n",
            "All shape before dropping records :  (175694, 7)\n",
            "All shape after dropping records :  (105915, 7) \n",
            "\n",
            "Running for : \t /content/drive/MyDrive/ML/anomaly/normal/40.csv\n",
            "Attack : \t /content/drive/MyDrive/ML/anomaly/attack/40.csv\n",
            "All : \t\t /content/drive/MyDrive/ML/anomaly/csv/40.csv\n",
            "All shape before dropping records :  (417863, 7)\n",
            "All shape after dropping records :  (13000, 7) \n",
            "\n",
            "Running for : \t /content/drive/MyDrive/ML/anomaly/normal/41.csv\n",
            "Attack : \t /content/drive/MyDrive/ML/anomaly/attack/41.csv\n",
            "All : \t\t /content/drive/MyDrive/ML/anomaly/csv/41.csv\n",
            "All shape before dropping records :  (175694, 7)\n",
            "All shape after dropping records :  (105915, 7) \n",
            "\n",
            "Running for : \t /content/drive/MyDrive/ML/anomaly/normal/42.csv\n",
            "Attack : \t /content/drive/MyDrive/ML/anomaly/attack/42.csv\n",
            "All : \t\t /content/drive/MyDrive/ML/anomaly/csv/42.csv\n",
            "All shape before dropping records :  (42594, 7)\n",
            "All shape after dropping records :  (13000, 7) \n",
            "\n",
            "Running for : \t /content/drive/MyDrive/ML/anomaly/normal/43.csv\n",
            "Attack : \t /content/drive/MyDrive/ML/anomaly/attack/43.csv\n",
            "All : \t\t /content/drive/MyDrive/ML/anomaly/csv/43.csv\n",
            "All shape before dropping records :  (114137, 7)\n",
            "All shape after dropping records :  (105915, 7) \n",
            "\n",
            "Running for : \t /content/drive/MyDrive/ML/anomaly/normal/44.csv\n",
            "Attack : \t /content/drive/MyDrive/ML/anomaly/attack/44.csv\n",
            "All : \t\t /content/drive/MyDrive/ML/anomaly/csv/44.csv\n",
            "All shape before dropping records :  (42594, 7)\n",
            "All shape after dropping records :  (13000, 7) \n",
            "\n",
            "Running for : \t /content/drive/MyDrive/ML/anomaly/normal/45.csv\n",
            "Attack : \t /content/drive/MyDrive/ML/anomaly/attack/45.csv\n",
            "All : \t\t /content/drive/MyDrive/ML/anomaly/csv/45.csv\n",
            "All shape before dropping records :  (114137, 7)\n",
            "All shape after dropping records :  (105915, 7) \n",
            "\n",
            "Running for : \t /content/drive/MyDrive/ML/anomaly/normal/46.csv\n",
            "Attack : \t /content/drive/MyDrive/ML/anomaly/attack/46.csv\n",
            "All : \t\t /content/drive/MyDrive/ML/anomaly/csv/46.csv\n",
            "All shape before dropping records :  (13764, 7)\n",
            "All shape after dropping records :  (13000, 7) \n",
            "\n",
            "Running for : \t /content/drive/MyDrive/ML/anomaly/normal/47.csv\n",
            "Attack : \t /content/drive/MyDrive/ML/anomaly/attack/47.csv\n",
            "All : \t\t /content/drive/MyDrive/ML/anomaly/csv/47.csv\n",
            "All shape before dropping records :  (110383, 7)\n",
            "All shape after dropping records :  (105915, 7) \n",
            "\n",
            "Running for : \t /content/drive/MyDrive/ML/anomaly/normal/48.csv\n",
            "Attack : \t /content/drive/MyDrive/ML/anomaly/attack/48.csv\n",
            "All : \t\t /content/drive/MyDrive/ML/anomaly/csv/48.csv\n",
            "All shape before dropping records :  (13764, 7)\n",
            "All shape after dropping records :  (13000, 7) \n",
            "\n",
            "Running for : \t /content/drive/MyDrive/ML/anomaly/normal/49.csv\n",
            "Attack : \t /content/drive/MyDrive/ML/anomaly/attack/49.csv\n",
            "All : \t\t /content/drive/MyDrive/ML/anomaly/csv/49.csv\n",
            "All shape before dropping records :  (110383, 7)\n",
            "All shape after dropping records :  (105915, 7) \n",
            "\n",
            "Running for : \t /content/drive/MyDrive/ML/anomaly/normal/50.csv\n",
            "Attack : \t /content/drive/MyDrive/ML/anomaly/attack/50.csv\n",
            "All : \t\t /content/drive/MyDrive/ML/anomaly/csv/50.csv\n",
            "All shape before dropping records :  (135146, 7)\n",
            "All shape after dropping records :  (135033, 7) \n",
            "\n",
            "Running for : \t /content/drive/MyDrive/ML/anomaly/normal/51.csv\n",
            "Attack : \t /content/drive/MyDrive/ML/anomaly/attack/51.csv\n",
            "All : \t\t /content/drive/MyDrive/ML/anomaly/csv/51.csv\n",
            "All shape before dropping records :  (135146, 7)\n",
            "All shape after dropping records :  (134970, 7) \n",
            "\n",
            "Running for : \t /content/drive/MyDrive/ML/anomaly/normal/52.csv\n",
            "Attack : \t /content/drive/MyDrive/ML/anomaly/attack/52.csv\n",
            "All : \t\t /content/drive/MyDrive/ML/anomaly/csv/52.csv\n",
            "All shape before dropping records :  (81307, 7)\n",
            "All shape after dropping records :  (81206, 7) \n",
            "\n",
            "Running for : \t /content/drive/MyDrive/ML/anomaly/normal/53.csv\n",
            "Attack : \t /content/drive/MyDrive/ML/anomaly/attack/53.csv\n",
            "All : \t\t /content/drive/MyDrive/ML/anomaly/csv/53.csv\n",
            "All shape before dropping records :  (81307, 7)\n",
            "All shape after dropping records :  (81130, 7) \n",
            "\n",
            "Running for : \t /content/drive/MyDrive/ML/anomaly/normal/54.csv\n",
            "Attack : \t /content/drive/MyDrive/ML/anomaly/attack/54.csv\n",
            "All : \t\t /content/drive/MyDrive/ML/anomaly/csv/54.csv\n",
            "All shape before dropping records :  (93647, 7)\n",
            "All shape after dropping records :  (93437, 7) \n",
            "\n",
            "Running for : \t /content/drive/MyDrive/ML/anomaly/normal/55.csv\n",
            "Attack : \t /content/drive/MyDrive/ML/anomaly/attack/55.csv\n",
            "All : \t\t /content/drive/MyDrive/ML/anomaly/csv/55.csv\n",
            "All shape before dropping records :  (93647, 7)\n",
            "All shape after dropping records :  (93147, 7) \n",
            "\n",
            "Running for : \t /content/drive/MyDrive/ML/anomaly/normal/56.csv\n",
            "Attack : \t /content/drive/MyDrive/ML/anomaly/attack/56.csv\n",
            "All : \t\t /content/drive/MyDrive/ML/anomaly/csv/56.csv\n",
            "All shape before dropping records :  (98691, 7)\n",
            "All shape after dropping records :  (98568, 7) \n",
            "\n",
            "Running for : \t /content/drive/MyDrive/ML/anomaly/normal/57.csv\n",
            "Attack : \t /content/drive/MyDrive/ML/anomaly/attack/57.csv\n",
            "All : \t\t /content/drive/MyDrive/ML/anomaly/csv/57.csv\n",
            "All shape before dropping records :  (98691, 7)\n",
            "All shape after dropping records :  (98131, 7) \n",
            "\n",
            "Running for : \t /content/drive/MyDrive/ML/anomaly/normal/58.csv\n",
            "Attack : \t /content/drive/MyDrive/ML/anomaly/attack/58.csv\n",
            "All : \t\t /content/drive/MyDrive/ML/anomaly/csv/58.csv\n",
            "All shape before dropping records :  (44564, 7)\n",
            "All shape after dropping records :  (44438, 7) \n",
            "\n",
            "Running for : \t /content/drive/MyDrive/ML/anomaly/normal/59.csv\n",
            "Attack : \t /content/drive/MyDrive/ML/anomaly/attack/59.csv\n",
            "All : \t\t /content/drive/MyDrive/ML/anomaly/csv/59.csv\n",
            "All shape before dropping records :  (44564, 7)\n",
            "All shape after dropping records :  (44053, 7) \n",
            "\n"
          ],
          "name": "stdout"
        }
      ]
    },
    {
      "cell_type": "code",
      "metadata": {
        "id": "IlAJ2f25Z0oZ"
      },
      "source": [
        "hey you there..."
      ],
      "execution_count": null,
      "outputs": []
    },
    {
      "cell_type": "code",
      "metadata": {
        "id": "p7GbHbEqiNTS"
      },
      "source": [
        "hoho"
      ],
      "execution_count": null,
      "outputs": []
    }
  ]
}