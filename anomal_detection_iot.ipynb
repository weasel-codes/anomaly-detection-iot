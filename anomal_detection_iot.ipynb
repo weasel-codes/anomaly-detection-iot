{
  "nbformat": 4,
  "nbformat_minor": 0,
  "metadata": {
    "colab": {
      "name": "anomal-detection-iot.ipynb",
      "provenance": [],
      "collapsed_sections": [],
      "mount_file_id": "1rxQypSQ_22PnkOfWJoBDQXaSo5OkO3oX",
      "authorship_tag": "ABX9TyPQyG6vgnWSzVw+SDO1R87e",
      "include_colab_link": true
    },
    "kernelspec": {
      "name": "python3",
      "display_name": "Python 3"
    },
    "language_info": {
      "name": "python"
    }
  },
  "cells": [
    {
      "cell_type": "markdown",
      "metadata": {
        "id": "view-in-github",
        "colab_type": "text"
      },
      "source": [
        "<a href=\"https://colab.research.google.com/github/weasel-codes/anomaly-detection-iot/blob/main/anomal_detection_iot.ipynb\" target=\"_parent\"><img src=\"https://colab.research.google.com/assets/colab-badge.svg\" alt=\"Open In Colab\"/></a>"
      ]
    },
    {
      "cell_type": "markdown",
      "metadata": {
        "id": "Fe2_KWEUB7ze"
      },
      "source": [
        "> Performing basic file split using wireshark"
      ]
    },
    {
      "cell_type": "code",
      "metadata": {
        "colab": {
          "base_uri": "https://localhost:8080/"
        },
        "id": "6IYWuoT4lDii",
        "outputId": "2c5b5b15-c8ec-4d25-ae23-fd0772a8a968"
      },
      "source": [
        "!apt-get install tshark"
      ],
      "execution_count": 1,
      "outputs": [
        {
          "output_type": "stream",
          "text": [
            "Reading package lists... Done\n",
            "Building dependency tree       \n",
            "Reading state information... Done\n",
            "tshark is already the newest version (2.6.10-1~ubuntu18.04.0).\n",
            "0 upgraded, 0 newly installed, 0 to remove and 30 not upgraded.\n"
          ],
          "name": "stdout"
        }
      ]
    },
    {
      "cell_type": "code",
      "metadata": {
        "id": "h7rfmKZuK_yr"
      },
      "source": [
        "import os\n",
        "import pandas as pd\n",
        "import numpy as np"
      ],
      "execution_count": 2,
      "outputs": []
    },
    {
      "cell_type": "code",
      "metadata": {
        "id": "hUO1BjRB_Yn5"
      },
      "source": [
        "base_url = '/content/drive/MyDrive/ML/anomaly/'"
      ],
      "execution_count": 3,
      "outputs": []
    },
    {
      "cell_type": "markdown",
      "metadata": {
        "id": "ENj-uFWv_PI-"
      },
      "source": [
        "# Import Dataset Description"
      ]
    },
    {
      "cell_type": "code",
      "metadata": {
        "colab": {
          "base_uri": "https://localhost:8080/"
        },
        "id": "Ly-eCK2UDw6w",
        "outputId": "7cec8afe-8f00-4591-9937-d3fffeea06a9"
      },
      "source": [
        "file = pd.read_excel(base_url + 'dataset_description.xlsx')\n",
        "desc_arr = file.to_numpy()\n",
        "desc_arr.shape"
      ],
      "execution_count": 4,
      "outputs": [
        {
          "output_type": "execute_result",
          "data": {
            "text/plain": [
              "(59, 5)"
            ]
          },
          "metadata": {
            "tags": []
          },
          "execution_count": 4
        }
      ]
    },
    {
      "cell_type": "code",
      "metadata": {
        "colab": {
          "base_uri": "https://localhost:8080/"
        },
        "id": "wdK-NjUSGmHS",
        "outputId": "1e229078-9fe5-45e6-8c82-fe9119122860"
      },
      "source": [
        "desc_arr[54:]"
      ],
      "execution_count": 5,
      "outputs": [
        {
          "output_type": "execute_result",
          "data": {
            "text/plain": [
              "array([[nan, nan, 'Mirai Botnet', 'Telnet Bruteforce',\n",
              "        'tcp.dstport==23 and ip.src==192.168.0.13'],\n",
              "       [41.0, 'mirai-hostbruteforce-4-dec.pcap', 'Mirai Botnet',\n",
              "        'Host Discovery',\n",
              "        'arp.dst.proto_ipv4 == 192.168.0.0/24 and arp.src.proto_ipv4 == 192.168.0.24 and eth.dst == ff:ff:ff:ff:ff:ff'],\n",
              "       [nan, nan, 'Mirai Botnet', 'Telnet Bruteforce',\n",
              "        'tcp.dstport==23 and ip.src==192.168.0.24'],\n",
              "       [42.0, 'mirai-hostbruteforce-5-dec.pcap', 'Mirai Botnet',\n",
              "        'Host Discovery',\n",
              "        'arp.dst.proto_ipv4 == 192.168.0.0/24 and arp.src.proto_ipv4 == 192.168.0.13 and eth.dst == ff:ff:ff:ff:ff:ff'],\n",
              "       [nan, nan, 'Mirai Botnet', 'Telnet Bruteforce',\n",
              "        'tcp.dstport==23 and ip.src==192.168.0.13']], dtype=object)"
            ]
          },
          "metadata": {
            "tags": []
          },
          "execution_count": 5
        }
      ]
    },
    {
      "cell_type": "code",
      "metadata": {
        "colab": {
          "base_uri": "https://localhost:8080/"
        },
        "id": "lizOmTePHoB_",
        "outputId": "55652a34-c55c-4083-f135-fe438bb30f8f"
      },
      "source": [
        "tot_file = desc_arr.shape[0]\n",
        "for i in range(tot_file) :\n",
        "    desc_arr[i][0] = i+1\n",
        "    if(isinstance(desc_arr[i][1], float)) :\n",
        "      desc_arr[i][1] = desc_arr[i-1][1]\n",
        "\n",
        "desc_arr[54:]"
      ],
      "execution_count": 6,
      "outputs": [
        {
          "output_type": "execute_result",
          "data": {
            "text/plain": [
              "array([[55, 'mirai-hostbruteforce-3-dec.pcap', 'Mirai Botnet',\n",
              "        'Telnet Bruteforce', 'tcp.dstport==23 and ip.src==192.168.0.13'],\n",
              "       [56, 'mirai-hostbruteforce-4-dec.pcap', 'Mirai Botnet',\n",
              "        'Host Discovery',\n",
              "        'arp.dst.proto_ipv4 == 192.168.0.0/24 and arp.src.proto_ipv4 == 192.168.0.24 and eth.dst == ff:ff:ff:ff:ff:ff'],\n",
              "       [57, 'mirai-hostbruteforce-4-dec.pcap', 'Mirai Botnet',\n",
              "        'Telnet Bruteforce', 'tcp.dstport==23 and ip.src==192.168.0.24'],\n",
              "       [58, 'mirai-hostbruteforce-5-dec.pcap', 'Mirai Botnet',\n",
              "        'Host Discovery',\n",
              "        'arp.dst.proto_ipv4 == 192.168.0.0/24 and arp.src.proto_ipv4 == 192.168.0.13 and eth.dst == ff:ff:ff:ff:ff:ff'],\n",
              "       [59, 'mirai-hostbruteforce-5-dec.pcap', 'Mirai Botnet',\n",
              "        'Telnet Bruteforce', 'tcp.dstport==23 and ip.src==192.168.0.13']],\n",
              "      dtype=object)"
            ]
          },
          "metadata": {
            "tags": []
          },
          "execution_count": 6
        }
      ]
    },
    {
      "cell_type": "code",
      "metadata": {
        "colab": {
          "base_uri": "https://localhost:8080/"
        },
        "id": "FEm8iCDLIUS9",
        "outputId": "19f4b7ff-12b7-4fd6-d107-c865c836df33"
      },
      "source": [
        "cmd = 'tshark -r {} -T fields -e frame.number -e frame.time_relative -e wlan.sa -e wlan.da -e wlan.ta -e wlan.ra -e frame.time_delta_displayed -e frame.len -E header=y -E separator=, -E quote=d -E occurrence=f > {}'\n",
        "final_cmd = cmd.format('/content/drive/MyDrive/ML/anomaly/Packets/benign-dec.pcap', '/content/drive/MyDrive/ML/anomaly/benign-dec.csv')\n",
        "print(final_cmd)\n",
        "os.system(final_cmd)"
      ],
      "execution_count": 7,
      "outputs": [
        {
          "output_type": "stream",
          "text": [
            "tshark -r /content/drive/MyDrive/ML/anomaly/Packets/benign-dec.pcap -T fields -e frame.number -e frame.time_relative -e wlan.sa -e wlan.da -e wlan.ta -e wlan.ra -e frame.time_delta_displayed -e frame.len -E header=y -E separator=, -E quote=d -E occurrence=f > /content/drive/MyDrive/ML/anomaly/benign-dec.csv\n"
          ],
          "name": "stdout"
        },
        {
          "output_type": "execute_result",
          "data": {
            "text/plain": [
              "512"
            ]
          },
          "metadata": {
            "tags": []
          },
          "execution_count": 7
        }
      ]
    },
    {
      "cell_type": "code",
      "metadata": {
        "colab": {
          "base_uri": "https://localhost:8080/"
        },
        "id": "UyoQMfbHK1vq",
        "outputId": "7b25ab1b-654b-4bed-dcd4-948db63afce0"
      },
      "source": [
        "cpac_file_loc = 'packet/'\n",
        "attack_key = 'attack/'\n",
        "all_key = 'csv/'\n",
        "\n",
        "for i in range(1, tot_file) :\n",
        "  file_name = desc_arr[i][1]\n",
        "  file_rule = desc_arr[i][4]\n",
        "  file_rule = file_rule.replace('\\n', ' ') # to remove newline from filters\n",
        "\n",
        "  from_loc = base_url + cpac_file_loc + file_name\n",
        "  to_loc_attack = base_url + attack_key + file_name.split('.')[0]+\".csv\"\n",
        "  to_loc_all = base_url + all_key + file_name.split('.')[0]+\".csv\"\n",
        "\n",
        "  packet_to_all_command = 'tshark -r {} -T fields -e frame.number -e frame.time_relative -e frame.len -e data.len -e ip.src -e ip.dst -e frame.protocols -E header=y -E separator=, -E quote=d -E occurrence=f > {}'\n",
        "  packet_to_all_command = packet_to_all_command.format(from_loc, to_loc_all)\n",
        "\n",
        "  packet_to_attack_command = 'tshark -r {} -T fields -e frame.number -e frame.time_relative -e frame.len -e data.len -e ip.src -e ip.dst -e frame.protocols -E header=y -E separator=, -E quote=d -E occurrence=f {} > {}'\n",
        "  packet_to_attack_command = packet_to_attack_command.format(from_loc, file_rule, to_loc_attack)\n",
        "\n",
        "  # print(file_name, \" : All : \" , packet_to_all_command)\n",
        "  # os.system(packet_to_all_command)\n",
        "  print(file_name, \" : Attack : \", packet_to_attack_command)\n",
        "  os.system(packet_to_attack_command)\n",
        "  break"
      ],
      "execution_count": 10,
      "outputs": [
        {
          "output_type": "stream",
          "text": [
            "mitm-arpspoofing-1-dec.pcap  : Attack :  tshark -r /content/drive/MyDrive/ML/anomaly/packet/mitm-arpspoofing-1-dec.pcap -T fields -e frame.number -e frame.time_relative -e frame.len -e data.len -e ip.src -e ip.dst -e frame.protocols -E header=y -E separator=, -E quote=d -E occurrence=f eth.addr == f0:18:98:5e:ff:9f and  ((((ip.src == 192.168.0.16 and ip.dst == 192.168.0.13)  or (ip.src == 192.168.0.13 and ip.dst == 192.168.0.16))  and !icmp and tcp)  or (arp.src.hw_mac == f0:18:98:5e:ff:9f  and (arp.dst.hw_mac == bc:1c:81:4b:ae:ba or arp.dst.hw_mac == 48:4b:aa:2c:d8:f9))) > /content/drive/MyDrive/ML/anomaly/attack/mitm-arpspoofing-1-dec.csv\n"
          ],
          "name": "stdout"
        }
      ]
    }
  ]
}