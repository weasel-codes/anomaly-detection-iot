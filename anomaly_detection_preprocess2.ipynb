{
  "nbformat": 4,
  "nbformat_minor": 0,
  "metadata": {
    "colab": {
      "name": "anomaly-detection-preprocess2.ipynb",
      "provenance": [],
      "mount_file_id": "1rSGC1zH8M_ANtFLje8Y4urn6qWuyynS7",
      "authorship_tag": "ABX9TyPq+vqPeut7PcBJAsAeO67j",
      "include_colab_link": true
    },
    "kernelspec": {
      "name": "python3",
      "display_name": "Python 3"
    },
    "language_info": {
      "name": "python"
    }
  },
  "cells": [
    {
      "cell_type": "markdown",
      "metadata": {
        "id": "view-in-github",
        "colab_type": "text"
      },
      "source": [
        "<a href=\"https://colab.research.google.com/github/weasel-codes/anomaly-detection-iot/blob/main/anomaly_detection_preprocess2.ipynb\" target=\"_parent\"><img src=\"https://colab.research.google.com/assets/colab-badge.svg\" alt=\"Open In Colab\"/></a>"
      ]
    },
    {
      "cell_type": "code",
      "metadata": {
        "id": "NBMWcPAly1Rk"
      },
      "source": [
        "import os\n",
        "import pandas as pd\n",
        "import numpy as np\n",
        "import glob"
      ],
      "execution_count": 3,
      "outputs": []
    },
    {
      "cell_type": "code",
      "metadata": {
        "id": "rJJH6BKYzEzo"
      },
      "source": [
        "base_url = '/content/drive/MyDrive/ML/anomaly/'\n",
        "data_file = 'dataset.csv'"
      ],
      "execution_count": 4,
      "outputs": []
    },
    {
      "cell_type": "code",
      "metadata": {
        "colab": {
          "base_uri": "https://localhost:8080/",
          "height": 424
        },
        "id": "lZ0j4ja6zbz3",
        "outputId": "4b00ccc8-779a-4c35-86ab-473e7bdd446d"
      },
      "source": [
        "df = pd.read_csv(base_url+data_file)\n",
        "if df.shape[1] > 8 :\n",
        "  df = df.drop(columns=df.columns[0])\n",
        "\n",
        "df"
      ],
      "execution_count": 5,
      "outputs": [
        {
          "output_type": "execute_result",
          "data": {
            "text/html": [
              "<div>\n",
              "<style scoped>\n",
              "    .dataframe tbody tr th:only-of-type {\n",
              "        vertical-align: middle;\n",
              "    }\n",
              "\n",
              "    .dataframe tbody tr th {\n",
              "        vertical-align: top;\n",
              "    }\n",
              "\n",
              "    .dataframe thead th {\n",
              "        text-align: right;\n",
              "    }\n",
              "</style>\n",
              "<table border=\"1\" class=\"dataframe\">\n",
              "  <thead>\n",
              "    <tr style=\"text-align: right;\">\n",
              "      <th></th>\n",
              "      <th>frame.number</th>\n",
              "      <th>frame.time_relative</th>\n",
              "      <th>frame.len</th>\n",
              "      <th>data.len</th>\n",
              "      <th>ip.src</th>\n",
              "      <th>ip.dst</th>\n",
              "      <th>frame.protocols</th>\n",
              "      <th>label</th>\n",
              "    </tr>\n",
              "  </thead>\n",
              "  <tbody>\n",
              "    <tr>\n",
              "      <th>0</th>\n",
              "      <td>88211</td>\n",
              "      <td>70.949809</td>\n",
              "      <td>1514</td>\n",
              "      <td>NaN</td>\n",
              "      <td>104.74.213.186</td>\n",
              "      <td>192.168.0.24</td>\n",
              "      <td>eth:ethertype:ip:tcp</td>\n",
              "      <td>0</td>\n",
              "    </tr>\n",
              "    <tr>\n",
              "      <th>1</th>\n",
              "      <td>58708</td>\n",
              "      <td>132.842376</td>\n",
              "      <td>54</td>\n",
              "      <td>NaN</td>\n",
              "      <td>192.168.0.19</td>\n",
              "      <td>173.194.49.203</td>\n",
              "      <td>eth:ethertype:ip:tcp</td>\n",
              "      <td>0</td>\n",
              "    </tr>\n",
              "    <tr>\n",
              "      <th>2</th>\n",
              "      <td>131894</td>\n",
              "      <td>296.013317</td>\n",
              "      <td>66</td>\n",
              "      <td>NaN</td>\n",
              "      <td>192.168.0.16</td>\n",
              "      <td>192.168.0.13</td>\n",
              "      <td>eth:ethertype:ip:tcp</td>\n",
              "      <td>0</td>\n",
              "    </tr>\n",
              "    <tr>\n",
              "      <th>3</th>\n",
              "      <td>252744</td>\n",
              "      <td>49.393385</td>\n",
              "      <td>74</td>\n",
              "      <td>32.0</td>\n",
              "      <td>192.168.0.24</td>\n",
              "      <td>210.89.164.90</td>\n",
              "      <td>eth:ethertype:ip:udp:data</td>\n",
              "      <td>1</td>\n",
              "    </tr>\n",
              "    <tr>\n",
              "      <th>4</th>\n",
              "      <td>35069</td>\n",
              "      <td>66.823389</td>\n",
              "      <td>1502</td>\n",
              "      <td>NaN</td>\n",
              "      <td>192.168.0.13</td>\n",
              "      <td>192.168.0.16</td>\n",
              "      <td>eth:ethertype:ip:tcp</td>\n",
              "      <td>0</td>\n",
              "    </tr>\n",
              "    <tr>\n",
              "      <th>...</th>\n",
              "      <td>...</td>\n",
              "      <td>...</td>\n",
              "      <td>...</td>\n",
              "      <td>...</td>\n",
              "      <td>...</td>\n",
              "      <td>...</td>\n",
              "      <td>...</td>\n",
              "      <td>...</td>\n",
              "    </tr>\n",
              "    <tr>\n",
              "      <th>2722818</th>\n",
              "      <td>91235</td>\n",
              "      <td>152.817776</td>\n",
              "      <td>77</td>\n",
              "      <td>35.0</td>\n",
              "      <td>192.168.0.24</td>\n",
              "      <td>210.89.164.90</td>\n",
              "      <td>eth:ethertype:ip:udp:data</td>\n",
              "      <td>1</td>\n",
              "    </tr>\n",
              "    <tr>\n",
              "      <th>2722819</th>\n",
              "      <td>137817</td>\n",
              "      <td>59.616331</td>\n",
              "      <td>74</td>\n",
              "      <td>32.0</td>\n",
              "      <td>192.168.0.13</td>\n",
              "      <td>210.89.164.90</td>\n",
              "      <td>eth:ethertype:ip:udp:data</td>\n",
              "      <td>1</td>\n",
              "    </tr>\n",
              "    <tr>\n",
              "      <th>2722820</th>\n",
              "      <td>18178</td>\n",
              "      <td>59.422203</td>\n",
              "      <td>1498</td>\n",
              "      <td>NaN</td>\n",
              "      <td>192.168.0.13</td>\n",
              "      <td>192.168.0.16</td>\n",
              "      <td>eth:ethertype:ip:tcp</td>\n",
              "      <td>0</td>\n",
              "    </tr>\n",
              "    <tr>\n",
              "      <th>2722821</th>\n",
              "      <td>77956</td>\n",
              "      <td>285.853238</td>\n",
              "      <td>188</td>\n",
              "      <td>NaN</td>\n",
              "      <td>192.168.0.24</td>\n",
              "      <td>223.39.123.191</td>\n",
              "      <td>eth:ethertype:ip:tcp:ssl</td>\n",
              "      <td>0</td>\n",
              "    </tr>\n",
              "    <tr>\n",
              "      <th>2722822</th>\n",
              "      <td>393991</td>\n",
              "      <td>75.815770</td>\n",
              "      <td>74</td>\n",
              "      <td>32.0</td>\n",
              "      <td>192.168.0.24</td>\n",
              "      <td>210.89.164.90</td>\n",
              "      <td>eth:ethertype:ip:udp:data</td>\n",
              "      <td>1</td>\n",
              "    </tr>\n",
              "  </tbody>\n",
              "</table>\n",
              "<p>2722823 rows × 8 columns</p>\n",
              "</div>"
            ],
            "text/plain": [
              "         frame.number  frame.time_relative  ...            frame.protocols  label\n",
              "0               88211            70.949809  ...       eth:ethertype:ip:tcp      0\n",
              "1               58708           132.842376  ...       eth:ethertype:ip:tcp      0\n",
              "2              131894           296.013317  ...       eth:ethertype:ip:tcp      0\n",
              "3              252744            49.393385  ...  eth:ethertype:ip:udp:data      1\n",
              "4               35069            66.823389  ...       eth:ethertype:ip:tcp      0\n",
              "...               ...                  ...  ...                        ...    ...\n",
              "2722818         91235           152.817776  ...  eth:ethertype:ip:udp:data      1\n",
              "2722819        137817            59.616331  ...  eth:ethertype:ip:udp:data      1\n",
              "2722820         18178            59.422203  ...       eth:ethertype:ip:tcp      0\n",
              "2722821         77956           285.853238  ...   eth:ethertype:ip:tcp:ssl      0\n",
              "2722822        393991            75.815770  ...  eth:ethertype:ip:udp:data      1\n",
              "\n",
              "[2722823 rows x 8 columns]"
            ]
          },
          "metadata": {
            "tags": []
          },
          "execution_count": 5
        }
      ]
    },
    {
      "cell_type": "code",
      "metadata": {
        "colab": {
          "base_uri": "https://localhost:8080/"
        },
        "id": "gX6q_6Hl1TCQ",
        "outputId": "dc9fa2c9-59c9-4c98-e37a-7865aa19ad99"
      },
      "source": [
        "df.isna().sum()"
      ],
      "execution_count": 6,
      "outputs": [
        {
          "output_type": "execute_result",
          "data": {
            "text/plain": [
              "frame.number                 0\n",
              "frame.time_relative          0\n",
              "frame.len                    0\n",
              "data.len               1441202\n",
              "ip.src                   12764\n",
              "ip.dst                   12764\n",
              "frame.protocols              0\n",
              "label                        0\n",
              "dtype: int64"
            ]
          },
          "metadata": {
            "tags": []
          },
          "execution_count": 6
        }
      ]
    },
    {
      "cell_type": "code",
      "metadata": {
        "colab": {
          "base_uri": "https://localhost:8080/"
        },
        "id": "j8Igk41J2iW7",
        "outputId": "f8063d47-176f-4646-d99d-bc9143d32993"
      },
      "source": [
        "df['data.len'] = df['data.len'].fillna(0)\n",
        "df['ip.src'] = df['ip.src'].fillna(method='ffill')\n",
        "df['ip.dst'] = df['ip.dst'].fillna(method='ffill')\n",
        "df.isna().sum()"
      ],
      "execution_count": 7,
      "outputs": [
        {
          "output_type": "execute_result",
          "data": {
            "text/plain": [
              "frame.number           0\n",
              "frame.time_relative    0\n",
              "frame.len              0\n",
              "data.len               0\n",
              "ip.src                 0\n",
              "ip.dst                 0\n",
              "frame.protocols        0\n",
              "label                  0\n",
              "dtype: int64"
            ]
          },
          "metadata": {
            "tags": []
          },
          "execution_count": 7
        }
      ]
    },
    {
      "cell_type": "code",
      "metadata": {
        "colab": {
          "base_uri": "https://localhost:8080/",
          "height": 424
        },
        "id": "TxK_ptA34kPh",
        "outputId": "9155e909-9d77-440e-bac9-ca352d2c83eb"
      },
      "source": [
        "df"
      ],
      "execution_count": 8,
      "outputs": [
        {
          "output_type": "execute_result",
          "data": {
            "text/html": [
              "<div>\n",
              "<style scoped>\n",
              "    .dataframe tbody tr th:only-of-type {\n",
              "        vertical-align: middle;\n",
              "    }\n",
              "\n",
              "    .dataframe tbody tr th {\n",
              "        vertical-align: top;\n",
              "    }\n",
              "\n",
              "    .dataframe thead th {\n",
              "        text-align: right;\n",
              "    }\n",
              "</style>\n",
              "<table border=\"1\" class=\"dataframe\">\n",
              "  <thead>\n",
              "    <tr style=\"text-align: right;\">\n",
              "      <th></th>\n",
              "      <th>frame.number</th>\n",
              "      <th>frame.time_relative</th>\n",
              "      <th>frame.len</th>\n",
              "      <th>data.len</th>\n",
              "      <th>ip.src</th>\n",
              "      <th>ip.dst</th>\n",
              "      <th>frame.protocols</th>\n",
              "      <th>label</th>\n",
              "    </tr>\n",
              "  </thead>\n",
              "  <tbody>\n",
              "    <tr>\n",
              "      <th>0</th>\n",
              "      <td>88211</td>\n",
              "      <td>70.949809</td>\n",
              "      <td>1514</td>\n",
              "      <td>0.0</td>\n",
              "      <td>104.74.213.186</td>\n",
              "      <td>192.168.0.24</td>\n",
              "      <td>eth:ethertype:ip:tcp</td>\n",
              "      <td>0</td>\n",
              "    </tr>\n",
              "    <tr>\n",
              "      <th>1</th>\n",
              "      <td>58708</td>\n",
              "      <td>132.842376</td>\n",
              "      <td>54</td>\n",
              "      <td>0.0</td>\n",
              "      <td>192.168.0.19</td>\n",
              "      <td>173.194.49.203</td>\n",
              "      <td>eth:ethertype:ip:tcp</td>\n",
              "      <td>0</td>\n",
              "    </tr>\n",
              "    <tr>\n",
              "      <th>2</th>\n",
              "      <td>131894</td>\n",
              "      <td>296.013317</td>\n",
              "      <td>66</td>\n",
              "      <td>0.0</td>\n",
              "      <td>192.168.0.16</td>\n",
              "      <td>192.168.0.13</td>\n",
              "      <td>eth:ethertype:ip:tcp</td>\n",
              "      <td>0</td>\n",
              "    </tr>\n",
              "    <tr>\n",
              "      <th>3</th>\n",
              "      <td>252744</td>\n",
              "      <td>49.393385</td>\n",
              "      <td>74</td>\n",
              "      <td>32.0</td>\n",
              "      <td>192.168.0.24</td>\n",
              "      <td>210.89.164.90</td>\n",
              "      <td>eth:ethertype:ip:udp:data</td>\n",
              "      <td>1</td>\n",
              "    </tr>\n",
              "    <tr>\n",
              "      <th>4</th>\n",
              "      <td>35069</td>\n",
              "      <td>66.823389</td>\n",
              "      <td>1502</td>\n",
              "      <td>0.0</td>\n",
              "      <td>192.168.0.13</td>\n",
              "      <td>192.168.0.16</td>\n",
              "      <td>eth:ethertype:ip:tcp</td>\n",
              "      <td>0</td>\n",
              "    </tr>\n",
              "    <tr>\n",
              "      <th>...</th>\n",
              "      <td>...</td>\n",
              "      <td>...</td>\n",
              "      <td>...</td>\n",
              "      <td>...</td>\n",
              "      <td>...</td>\n",
              "      <td>...</td>\n",
              "      <td>...</td>\n",
              "      <td>...</td>\n",
              "    </tr>\n",
              "    <tr>\n",
              "      <th>2722818</th>\n",
              "      <td>91235</td>\n",
              "      <td>152.817776</td>\n",
              "      <td>77</td>\n",
              "      <td>35.0</td>\n",
              "      <td>192.168.0.24</td>\n",
              "      <td>210.89.164.90</td>\n",
              "      <td>eth:ethertype:ip:udp:data</td>\n",
              "      <td>1</td>\n",
              "    </tr>\n",
              "    <tr>\n",
              "      <th>2722819</th>\n",
              "      <td>137817</td>\n",
              "      <td>59.616331</td>\n",
              "      <td>74</td>\n",
              "      <td>32.0</td>\n",
              "      <td>192.168.0.13</td>\n",
              "      <td>210.89.164.90</td>\n",
              "      <td>eth:ethertype:ip:udp:data</td>\n",
              "      <td>1</td>\n",
              "    </tr>\n",
              "    <tr>\n",
              "      <th>2722820</th>\n",
              "      <td>18178</td>\n",
              "      <td>59.422203</td>\n",
              "      <td>1498</td>\n",
              "      <td>0.0</td>\n",
              "      <td>192.168.0.13</td>\n",
              "      <td>192.168.0.16</td>\n",
              "      <td>eth:ethertype:ip:tcp</td>\n",
              "      <td>0</td>\n",
              "    </tr>\n",
              "    <tr>\n",
              "      <th>2722821</th>\n",
              "      <td>77956</td>\n",
              "      <td>285.853238</td>\n",
              "      <td>188</td>\n",
              "      <td>0.0</td>\n",
              "      <td>192.168.0.24</td>\n",
              "      <td>223.39.123.191</td>\n",
              "      <td>eth:ethertype:ip:tcp:ssl</td>\n",
              "      <td>0</td>\n",
              "    </tr>\n",
              "    <tr>\n",
              "      <th>2722822</th>\n",
              "      <td>393991</td>\n",
              "      <td>75.815770</td>\n",
              "      <td>74</td>\n",
              "      <td>32.0</td>\n",
              "      <td>192.168.0.24</td>\n",
              "      <td>210.89.164.90</td>\n",
              "      <td>eth:ethertype:ip:udp:data</td>\n",
              "      <td>1</td>\n",
              "    </tr>\n",
              "  </tbody>\n",
              "</table>\n",
              "<p>2722823 rows × 8 columns</p>\n",
              "</div>"
            ],
            "text/plain": [
              "         frame.number  frame.time_relative  ...            frame.protocols  label\n",
              "0               88211            70.949809  ...       eth:ethertype:ip:tcp      0\n",
              "1               58708           132.842376  ...       eth:ethertype:ip:tcp      0\n",
              "2              131894           296.013317  ...       eth:ethertype:ip:tcp      0\n",
              "3              252744            49.393385  ...  eth:ethertype:ip:udp:data      1\n",
              "4               35069            66.823389  ...       eth:ethertype:ip:tcp      0\n",
              "...               ...                  ...  ...                        ...    ...\n",
              "2722818         91235           152.817776  ...  eth:ethertype:ip:udp:data      1\n",
              "2722819        137817            59.616331  ...  eth:ethertype:ip:udp:data      1\n",
              "2722820         18178            59.422203  ...       eth:ethertype:ip:tcp      0\n",
              "2722821         77956           285.853238  ...   eth:ethertype:ip:tcp:ssl      0\n",
              "2722822        393991            75.815770  ...  eth:ethertype:ip:udp:data      1\n",
              "\n",
              "[2722823 rows x 8 columns]"
            ]
          },
          "metadata": {
            "tags": []
          },
          "execution_count": 8
        }
      ]
    },
    {
      "cell_type": "code",
      "metadata": {
        "id": "69oY9tZMEuY6"
      },
      "source": [
        "df = pd.get_dummies(df, columns=['ip.src', 'ip.dst'], prefix=[\"src\", \"dst\"]).head()"
      ],
      "execution_count": null,
      "outputs": []
    },
    {
      "cell_type": "code",
      "metadata": {
        "colab": {
          "base_uri": "https://localhost:8080/",
          "height": 424
        },
        "id": "p1OatvwsE-mZ",
        "outputId": "1ebccad4-9343-4864-cd27-07ec2fe6a33c"
      },
      "source": [
        "df"
      ],
      "execution_count": 80,
      "outputs": [
        {
          "output_type": "execute_result",
          "data": {
            "text/html": [
              "<div>\n",
              "<style scoped>\n",
              "    .dataframe tbody tr th:only-of-type {\n",
              "        vertical-align: middle;\n",
              "    }\n",
              "\n",
              "    .dataframe tbody tr th {\n",
              "        vertical-align: top;\n",
              "    }\n",
              "\n",
              "    .dataframe thead th {\n",
              "        text-align: right;\n",
              "    }\n",
              "</style>\n",
              "<table border=\"1\" class=\"dataframe\">\n",
              "  <thead>\n",
              "    <tr style=\"text-align: right;\">\n",
              "      <th></th>\n",
              "      <th>frame.number</th>\n",
              "      <th>frame.time_relative</th>\n",
              "      <th>frame.len</th>\n",
              "      <th>data.len</th>\n",
              "      <th>ip.src</th>\n",
              "      <th>ip.dst</th>\n",
              "      <th>frame.protocols</th>\n",
              "      <th>label</th>\n",
              "    </tr>\n",
              "  </thead>\n",
              "  <tbody>\n",
              "    <tr>\n",
              "      <th>0</th>\n",
              "      <td>88211</td>\n",
              "      <td>70.949809</td>\n",
              "      <td>1514</td>\n",
              "      <td>0.0</td>\n",
              "      <td>104.74.213.186</td>\n",
              "      <td>192.168.0.24</td>\n",
              "      <td>eth:ethertype:ip:tcp</td>\n",
              "      <td>0</td>\n",
              "    </tr>\n",
              "    <tr>\n",
              "      <th>1</th>\n",
              "      <td>58708</td>\n",
              "      <td>132.842376</td>\n",
              "      <td>54</td>\n",
              "      <td>0.0</td>\n",
              "      <td>192.168.0.19</td>\n",
              "      <td>173.194.49.203</td>\n",
              "      <td>eth:ethertype:ip:tcp</td>\n",
              "      <td>0</td>\n",
              "    </tr>\n",
              "    <tr>\n",
              "      <th>2</th>\n",
              "      <td>131894</td>\n",
              "      <td>296.013317</td>\n",
              "      <td>66</td>\n",
              "      <td>0.0</td>\n",
              "      <td>192.168.0.16</td>\n",
              "      <td>192.168.0.13</td>\n",
              "      <td>eth:ethertype:ip:tcp</td>\n",
              "      <td>0</td>\n",
              "    </tr>\n",
              "    <tr>\n",
              "      <th>3</th>\n",
              "      <td>252744</td>\n",
              "      <td>49.393385</td>\n",
              "      <td>74</td>\n",
              "      <td>32.0</td>\n",
              "      <td>192.168.0.24</td>\n",
              "      <td>210.89.164.90</td>\n",
              "      <td>eth:ethertype:ip:udp:data</td>\n",
              "      <td>1</td>\n",
              "    </tr>\n",
              "    <tr>\n",
              "      <th>4</th>\n",
              "      <td>35069</td>\n",
              "      <td>66.823389</td>\n",
              "      <td>1502</td>\n",
              "      <td>0.0</td>\n",
              "      <td>192.168.0.13</td>\n",
              "      <td>192.168.0.16</td>\n",
              "      <td>eth:ethertype:ip:tcp</td>\n",
              "      <td>0</td>\n",
              "    </tr>\n",
              "    <tr>\n",
              "      <th>...</th>\n",
              "      <td>...</td>\n",
              "      <td>...</td>\n",
              "      <td>...</td>\n",
              "      <td>...</td>\n",
              "      <td>...</td>\n",
              "      <td>...</td>\n",
              "      <td>...</td>\n",
              "      <td>...</td>\n",
              "    </tr>\n",
              "    <tr>\n",
              "      <th>2722818</th>\n",
              "      <td>91235</td>\n",
              "      <td>152.817776</td>\n",
              "      <td>77</td>\n",
              "      <td>35.0</td>\n",
              "      <td>192.168.0.24</td>\n",
              "      <td>210.89.164.90</td>\n",
              "      <td>eth:ethertype:ip:udp:data</td>\n",
              "      <td>1</td>\n",
              "    </tr>\n",
              "    <tr>\n",
              "      <th>2722819</th>\n",
              "      <td>137817</td>\n",
              "      <td>59.616331</td>\n",
              "      <td>74</td>\n",
              "      <td>32.0</td>\n",
              "      <td>192.168.0.13</td>\n",
              "      <td>210.89.164.90</td>\n",
              "      <td>eth:ethertype:ip:udp:data</td>\n",
              "      <td>1</td>\n",
              "    </tr>\n",
              "    <tr>\n",
              "      <th>2722820</th>\n",
              "      <td>18178</td>\n",
              "      <td>59.422203</td>\n",
              "      <td>1498</td>\n",
              "      <td>0.0</td>\n",
              "      <td>192.168.0.13</td>\n",
              "      <td>192.168.0.16</td>\n",
              "      <td>eth:ethertype:ip:tcp</td>\n",
              "      <td>0</td>\n",
              "    </tr>\n",
              "    <tr>\n",
              "      <th>2722821</th>\n",
              "      <td>77956</td>\n",
              "      <td>285.853238</td>\n",
              "      <td>188</td>\n",
              "      <td>0.0</td>\n",
              "      <td>192.168.0.24</td>\n",
              "      <td>223.39.123.191</td>\n",
              "      <td>eth:ethertype:ip:tcp:ssl</td>\n",
              "      <td>0</td>\n",
              "    </tr>\n",
              "    <tr>\n",
              "      <th>2722822</th>\n",
              "      <td>393991</td>\n",
              "      <td>75.815770</td>\n",
              "      <td>74</td>\n",
              "      <td>32.0</td>\n",
              "      <td>192.168.0.24</td>\n",
              "      <td>210.89.164.90</td>\n",
              "      <td>eth:ethertype:ip:udp:data</td>\n",
              "      <td>1</td>\n",
              "    </tr>\n",
              "  </tbody>\n",
              "</table>\n",
              "<p>2722823 rows × 8 columns</p>\n",
              "</div>"
            ],
            "text/plain": [
              "         frame.number  frame.time_relative  ...            frame.protocols  label\n",
              "0               88211            70.949809  ...       eth:ethertype:ip:tcp      0\n",
              "1               58708           132.842376  ...       eth:ethertype:ip:tcp      0\n",
              "2              131894           296.013317  ...       eth:ethertype:ip:tcp      0\n",
              "3              252744            49.393385  ...  eth:ethertype:ip:udp:data      1\n",
              "4               35069            66.823389  ...       eth:ethertype:ip:tcp      0\n",
              "...               ...                  ...  ...                        ...    ...\n",
              "2722818         91235           152.817776  ...  eth:ethertype:ip:udp:data      1\n",
              "2722819        137817            59.616331  ...  eth:ethertype:ip:udp:data      1\n",
              "2722820         18178            59.422203  ...       eth:ethertype:ip:tcp      0\n",
              "2722821         77956           285.853238  ...   eth:ethertype:ip:tcp:ssl      0\n",
              "2722822        393991            75.815770  ...  eth:ethertype:ip:udp:data      1\n",
              "\n",
              "[2722823 rows x 8 columns]"
            ]
          },
          "metadata": {
            "tags": []
          },
          "execution_count": 80
        }
      ]
    },
    {
      "cell_type": "code",
      "metadata": {
        "id": "tNXpGzdKBf8x"
      },
      "source": [
        "# Create Entites using indexes of csv\n",
        "X = df.iloc[:, :-1].values #All the rows + all the columns except last\n",
        "Y = df.iloc[:,-1] #Dependent vairables is last column"
      ],
      "execution_count": 69,
      "outputs": []
    },
    {
      "cell_type": "code",
      "metadata": {
        "colab": {
          "base_uri": "https://localhost:8080/"
        },
        "id": "bv1S7cZrDN5_",
        "outputId": "ff67b5ca-9070-4264-bd60-832e5af8b4d2"
      },
      "source": [
        "X.shape"
      ],
      "execution_count": 70,
      "outputs": [
        {
          "output_type": "execute_result",
          "data": {
            "text/plain": [
              "(2722823, 7)"
            ]
          },
          "metadata": {
            "tags": []
          },
          "execution_count": 70
        }
      ]
    },
    {
      "cell_type": "code",
      "metadata": {
        "id": "dMCsaBvmDBuv"
      },
      "source": [
        "from sklearn.compose import ColumnTransformer\n",
        "from sklearn.preprocessing import OneHotEncoder"
      ],
      "execution_count": 71,
      "outputs": []
    },
    {
      "cell_type": "code",
      "metadata": {
        "colab": {
          "base_uri": "https://localhost:8080/",
          "height": 382
        },
        "id": "icASOunqCf7m",
        "outputId": "eb2d932f-1a37-4f24-aa00-e74623523b5d"
      },
      "source": [
        "# 'encoder' specifies that encoding is needed to be done using OneHotEncoder\n",
        "# remainder specifies that only selected column needs to be encoded and remainder columns \n",
        "# needs to be added to appended to the result\n",
        "ct = ColumnTransformer(transformers=[('encoder', (),[4])],remainder='passthrough')\n",
        "\n",
        "# Now we need to attach this functionality to matrix\n",
        "X = np.array(ct.fit_transform(X)) # To create a matrix out of result\n",
        "X.shape"
      ],
      "execution_count": 72,
      "outputs": [
        {
          "output_type": "error",
          "ename": "TypeError",
          "evalue": "ignored",
          "traceback": [
            "\u001b[0;31m---------------------------------------------------------------------------\u001b[0m",
            "\u001b[0;31mTypeError\u001b[0m                                 Traceback (most recent call last)",
            "\u001b[0;32m<ipython-input-72-45afeaa33c4c>\u001b[0m in \u001b[0;36m<module>\u001b[0;34m()\u001b[0m\n\u001b[1;32m      5\u001b[0m \u001b[0;34m\u001b[0m\u001b[0m\n\u001b[1;32m      6\u001b[0m \u001b[0;31m# Now we need to attach this functionality to matrix\u001b[0m\u001b[0;34m\u001b[0m\u001b[0;34m\u001b[0m\u001b[0;34m\u001b[0m\u001b[0m\n\u001b[0;32m----> 7\u001b[0;31m \u001b[0mX\u001b[0m \u001b[0;34m=\u001b[0m \u001b[0mnp\u001b[0m\u001b[0;34m.\u001b[0m\u001b[0marray\u001b[0m\u001b[0;34m(\u001b[0m\u001b[0mct\u001b[0m\u001b[0;34m.\u001b[0m\u001b[0mfit_transform\u001b[0m\u001b[0;34m(\u001b[0m\u001b[0mX\u001b[0m\u001b[0;34m)\u001b[0m\u001b[0;34m)\u001b[0m \u001b[0;31m# To create a matrix out of result\u001b[0m\u001b[0;34m\u001b[0m\u001b[0;34m\u001b[0m\u001b[0m\n\u001b[0m\u001b[1;32m      8\u001b[0m \u001b[0mX\u001b[0m\u001b[0;34m.\u001b[0m\u001b[0mshape\u001b[0m\u001b[0;34m\u001b[0m\u001b[0;34m\u001b[0m\u001b[0m\n",
            "\u001b[0;32m/usr/local/lib/python3.7/dist-packages/sklearn/compose/_column_transformer.py\u001b[0m in \u001b[0;36mfit_transform\u001b[0;34m(self, X, y)\u001b[0m\n\u001b[1;32m    512\u001b[0m             \u001b[0mself\u001b[0m\u001b[0;34m.\u001b[0m\u001b[0m_feature_names_in\u001b[0m \u001b[0;34m=\u001b[0m \u001b[0;32mNone\u001b[0m\u001b[0;34m\u001b[0m\u001b[0;34m\u001b[0m\u001b[0m\n\u001b[1;32m    513\u001b[0m         \u001b[0mX\u001b[0m \u001b[0;34m=\u001b[0m \u001b[0m_check_X\u001b[0m\u001b[0;34m(\u001b[0m\u001b[0mX\u001b[0m\u001b[0;34m)\u001b[0m\u001b[0;34m\u001b[0m\u001b[0;34m\u001b[0m\u001b[0m\n\u001b[0;32m--> 514\u001b[0;31m         \u001b[0mself\u001b[0m\u001b[0;34m.\u001b[0m\u001b[0m_validate_transformers\u001b[0m\u001b[0;34m(\u001b[0m\u001b[0;34m)\u001b[0m\u001b[0;34m\u001b[0m\u001b[0;34m\u001b[0m\u001b[0m\n\u001b[0m\u001b[1;32m    515\u001b[0m         \u001b[0mself\u001b[0m\u001b[0;34m.\u001b[0m\u001b[0m_validate_column_callables\u001b[0m\u001b[0;34m(\u001b[0m\u001b[0mX\u001b[0m\u001b[0;34m)\u001b[0m\u001b[0;34m\u001b[0m\u001b[0;34m\u001b[0m\u001b[0m\n\u001b[1;32m    516\u001b[0m         \u001b[0mself\u001b[0m\u001b[0;34m.\u001b[0m\u001b[0m_validate_remainder\u001b[0m\u001b[0;34m(\u001b[0m\u001b[0mX\u001b[0m\u001b[0;34m)\u001b[0m\u001b[0;34m\u001b[0m\u001b[0;34m\u001b[0m\u001b[0m\n",
            "\u001b[0;32m/usr/local/lib/python3.7/dist-packages/sklearn/compose/_column_transformer.py\u001b[0m in \u001b[0;36m_validate_transformers\u001b[0;34m(self)\u001b[0m\n\u001b[1;32m    285\u001b[0m                                 \u001b[0;34m\"transform, or can be 'drop' or 'passthrough' \"\u001b[0m\u001b[0;34m\u001b[0m\u001b[0;34m\u001b[0m\u001b[0m\n\u001b[1;32m    286\u001b[0m                                 \u001b[0;34m\"specifiers. '%s' (type %s) doesn't.\"\u001b[0m \u001b[0;34m%\u001b[0m\u001b[0;34m\u001b[0m\u001b[0;34m\u001b[0m\u001b[0m\n\u001b[0;32m--> 287\u001b[0;31m                                 (t, type(t)))\n\u001b[0m\u001b[1;32m    288\u001b[0m \u001b[0;34m\u001b[0m\u001b[0m\n\u001b[1;32m    289\u001b[0m     \u001b[0;32mdef\u001b[0m \u001b[0m_validate_column_callables\u001b[0m\u001b[0;34m(\u001b[0m\u001b[0mself\u001b[0m\u001b[0;34m,\u001b[0m \u001b[0mX\u001b[0m\u001b[0;34m)\u001b[0m\u001b[0;34m:\u001b[0m\u001b[0;34m\u001b[0m\u001b[0;34m\u001b[0m\u001b[0m\n",
            "\u001b[0;31mTypeError\u001b[0m: All estimators should implement fit and transform, or can be 'drop' or 'passthrough' specifiers. '()' (type <class 'tuple'>) doesn't."
          ]
        }
      ]
    },
    {
      "cell_type": "code",
      "metadata": {
        "id": "ybuPymADC1H0"
      },
      "source": [
        "X[:,5]"
      ],
      "execution_count": null,
      "outputs": []
    },
    {
      "cell_type": "code",
      "metadata": {
        "id": "sLF6BLDU_wa_"
      },
      "source": [
        ""
      ],
      "execution_count": null,
      "outputs": []
    },
    {
      "cell_type": "code",
      "metadata": {
        "id": "-SyE35qR5AQy"
      },
      "source": [
        "df['frame.protocols'].unique()"
      ],
      "execution_count": null,
      "outputs": []
    },
    {
      "cell_type": "code",
      "metadata": {
        "id": "y2JrFjCX9B2R"
      },
      "source": [
        "for i in range(df.shape[0]):\n",
        "  var = df['frame.protocols'][i].split(':')\n",
        "  print(var)\n",
        "  temp = \"\"\n",
        "  if len(var) == 1 :\n",
        "    temp = \"\"\n",
        "  elif len(var) == 2 :\n",
        "    temp = temp + var[0] + \":\" + var[1]\n",
        "  elif len(var) == 3 :\n",
        "    temp = temp + var[0] + \":\" + var[1] + \":\" + var[2]\n",
        "  elif len(var) == 4 :\n",
        "    temp = temp + var[0] + \":\" + var[1] + \":\" + var[2] + \":\" + var[3]\n",
        "\n",
        "  df['frame.protocols'][i] = temp  \n",
        "  print(df['frame.protocols'][i])\n",
        "  break"
      ],
      "execution_count": null,
      "outputs": []
    }
  ]
}