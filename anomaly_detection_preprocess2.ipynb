{
  "nbformat": 4,
  "nbformat_minor": 0,
  "metadata": {
    "colab": {
      "name": "anomaly-detection-preprocess2.ipynb",
      "provenance": [],
      "mount_file_id": "1rSGC1zH8M_ANtFLje8Y4urn6qWuyynS7",
      "authorship_tag": "ABX9TyM4pnBIFgnCzlmqlyOTxDF9",
      "include_colab_link": true
    },
    "kernelspec": {
      "name": "python3",
      "display_name": "Python 3"
    },
    "language_info": {
      "name": "python"
    }
  },
  "cells": [
    {
      "cell_type": "markdown",
      "metadata": {
        "id": "view-in-github",
        "colab_type": "text"
      },
      "source": [
        "<a href=\"https://colab.research.google.com/github/weasel-codes/anomaly-detection-iot/blob/main/anomaly_detection_preprocess2.ipynb\" target=\"_parent\"><img src=\"https://colab.research.google.com/assets/colab-badge.svg\" alt=\"Open In Colab\"/></a>"
      ]
    },
    {
      "cell_type": "code",
      "metadata": {
        "id": "NBMWcPAly1Rk"
      },
      "source": [
        "import os\n",
        "import pandas as pd\n",
        "import numpy as np\n",
        "import glob"
      ],
      "execution_count": 14,
      "outputs": []
    },
    {
      "cell_type": "code",
      "metadata": {
        "id": "rJJH6BKYzEzo"
      },
      "source": [
        "base_url = '/content/drive/MyDrive/ML/anomaly/'\n",
        "data_file = 'dataset.csv'"
      ],
      "execution_count": 15,
      "outputs": []
    },
    {
      "cell_type": "code",
      "metadata": {
        "colab": {
          "base_uri": "https://localhost:8080/",
          "height": 424
        },
        "id": "lZ0j4ja6zbz3",
        "outputId": "58cf1a8e-bd95-4554-a060-96a33db1a4e9"
      },
      "source": [
        "df = pd.read_csv(base_url+data_file)\n",
        "if df.shape[1] > 8 :\n",
        "  df = df.drop(columns=df.columns[0])\n",
        "\n",
        "df"
      ],
      "execution_count": 16,
      "outputs": [
        {
          "output_type": "execute_result",
          "data": {
            "text/html": [
              "<div>\n",
              "<style scoped>\n",
              "    .dataframe tbody tr th:only-of-type {\n",
              "        vertical-align: middle;\n",
              "    }\n",
              "\n",
              "    .dataframe tbody tr th {\n",
              "        vertical-align: top;\n",
              "    }\n",
              "\n",
              "    .dataframe thead th {\n",
              "        text-align: right;\n",
              "    }\n",
              "</style>\n",
              "<table border=\"1\" class=\"dataframe\">\n",
              "  <thead>\n",
              "    <tr style=\"text-align: right;\">\n",
              "      <th></th>\n",
              "      <th>frame.number</th>\n",
              "      <th>frame.time_relative</th>\n",
              "      <th>frame.len</th>\n",
              "      <th>data.len</th>\n",
              "      <th>ip.src</th>\n",
              "      <th>ip.dst</th>\n",
              "      <th>frame.protocols</th>\n",
              "      <th>label</th>\n",
              "    </tr>\n",
              "  </thead>\n",
              "  <tbody>\n",
              "    <tr>\n",
              "      <th>0</th>\n",
              "      <td>88211</td>\n",
              "      <td>70.949809</td>\n",
              "      <td>1514</td>\n",
              "      <td>NaN</td>\n",
              "      <td>104.74.213.186</td>\n",
              "      <td>192.168.0.24</td>\n",
              "      <td>eth:ethertype:ip:tcp</td>\n",
              "      <td>0</td>\n",
              "    </tr>\n",
              "    <tr>\n",
              "      <th>1</th>\n",
              "      <td>58708</td>\n",
              "      <td>132.842376</td>\n",
              "      <td>54</td>\n",
              "      <td>NaN</td>\n",
              "      <td>192.168.0.19</td>\n",
              "      <td>173.194.49.203</td>\n",
              "      <td>eth:ethertype:ip:tcp</td>\n",
              "      <td>0</td>\n",
              "    </tr>\n",
              "    <tr>\n",
              "      <th>2</th>\n",
              "      <td>131894</td>\n",
              "      <td>296.013317</td>\n",
              "      <td>66</td>\n",
              "      <td>NaN</td>\n",
              "      <td>192.168.0.16</td>\n",
              "      <td>192.168.0.13</td>\n",
              "      <td>eth:ethertype:ip:tcp</td>\n",
              "      <td>0</td>\n",
              "    </tr>\n",
              "    <tr>\n",
              "      <th>3</th>\n",
              "      <td>252744</td>\n",
              "      <td>49.393385</td>\n",
              "      <td>74</td>\n",
              "      <td>32.0</td>\n",
              "      <td>192.168.0.24</td>\n",
              "      <td>210.89.164.90</td>\n",
              "      <td>eth:ethertype:ip:udp:data</td>\n",
              "      <td>1</td>\n",
              "    </tr>\n",
              "    <tr>\n",
              "      <th>4</th>\n",
              "      <td>35069</td>\n",
              "      <td>66.823389</td>\n",
              "      <td>1502</td>\n",
              "      <td>NaN</td>\n",
              "      <td>192.168.0.13</td>\n",
              "      <td>192.168.0.16</td>\n",
              "      <td>eth:ethertype:ip:tcp</td>\n",
              "      <td>0</td>\n",
              "    </tr>\n",
              "    <tr>\n",
              "      <th>...</th>\n",
              "      <td>...</td>\n",
              "      <td>...</td>\n",
              "      <td>...</td>\n",
              "      <td>...</td>\n",
              "      <td>...</td>\n",
              "      <td>...</td>\n",
              "      <td>...</td>\n",
              "      <td>...</td>\n",
              "    </tr>\n",
              "    <tr>\n",
              "      <th>2722818</th>\n",
              "      <td>91235</td>\n",
              "      <td>152.817776</td>\n",
              "      <td>77</td>\n",
              "      <td>35.0</td>\n",
              "      <td>192.168.0.24</td>\n",
              "      <td>210.89.164.90</td>\n",
              "      <td>eth:ethertype:ip:udp:data</td>\n",
              "      <td>1</td>\n",
              "    </tr>\n",
              "    <tr>\n",
              "      <th>2722819</th>\n",
              "      <td>137817</td>\n",
              "      <td>59.616331</td>\n",
              "      <td>74</td>\n",
              "      <td>32.0</td>\n",
              "      <td>192.168.0.13</td>\n",
              "      <td>210.89.164.90</td>\n",
              "      <td>eth:ethertype:ip:udp:data</td>\n",
              "      <td>1</td>\n",
              "    </tr>\n",
              "    <tr>\n",
              "      <th>2722820</th>\n",
              "      <td>18178</td>\n",
              "      <td>59.422203</td>\n",
              "      <td>1498</td>\n",
              "      <td>NaN</td>\n",
              "      <td>192.168.0.13</td>\n",
              "      <td>192.168.0.16</td>\n",
              "      <td>eth:ethertype:ip:tcp</td>\n",
              "      <td>0</td>\n",
              "    </tr>\n",
              "    <tr>\n",
              "      <th>2722821</th>\n",
              "      <td>77956</td>\n",
              "      <td>285.853238</td>\n",
              "      <td>188</td>\n",
              "      <td>NaN</td>\n",
              "      <td>192.168.0.24</td>\n",
              "      <td>223.39.123.191</td>\n",
              "      <td>eth:ethertype:ip:tcp:ssl</td>\n",
              "      <td>0</td>\n",
              "    </tr>\n",
              "    <tr>\n",
              "      <th>2722822</th>\n",
              "      <td>393991</td>\n",
              "      <td>75.815770</td>\n",
              "      <td>74</td>\n",
              "      <td>32.0</td>\n",
              "      <td>192.168.0.24</td>\n",
              "      <td>210.89.164.90</td>\n",
              "      <td>eth:ethertype:ip:udp:data</td>\n",
              "      <td>1</td>\n",
              "    </tr>\n",
              "  </tbody>\n",
              "</table>\n",
              "<p>2722823 rows × 8 columns</p>\n",
              "</div>"
            ],
            "text/plain": [
              "         frame.number  frame.time_relative  ...            frame.protocols  label\n",
              "0               88211            70.949809  ...       eth:ethertype:ip:tcp      0\n",
              "1               58708           132.842376  ...       eth:ethertype:ip:tcp      0\n",
              "2              131894           296.013317  ...       eth:ethertype:ip:tcp      0\n",
              "3              252744            49.393385  ...  eth:ethertype:ip:udp:data      1\n",
              "4               35069            66.823389  ...       eth:ethertype:ip:tcp      0\n",
              "...               ...                  ...  ...                        ...    ...\n",
              "2722818         91235           152.817776  ...  eth:ethertype:ip:udp:data      1\n",
              "2722819        137817            59.616331  ...  eth:ethertype:ip:udp:data      1\n",
              "2722820         18178            59.422203  ...       eth:ethertype:ip:tcp      0\n",
              "2722821         77956           285.853238  ...   eth:ethertype:ip:tcp:ssl      0\n",
              "2722822        393991            75.815770  ...  eth:ethertype:ip:udp:data      1\n",
              "\n",
              "[2722823 rows x 8 columns]"
            ]
          },
          "metadata": {
            "tags": []
          },
          "execution_count": 16
        }
      ]
    },
    {
      "cell_type": "code",
      "metadata": {
        "colab": {
          "base_uri": "https://localhost:8080/"
        },
        "id": "gX6q_6Hl1TCQ",
        "outputId": "888751f3-c418-4e68-c40c-66b5942eced7"
      },
      "source": [
        "df.isna().sum()"
      ],
      "execution_count": 17,
      "outputs": [
        {
          "output_type": "execute_result",
          "data": {
            "text/plain": [
              "frame.number                 0\n",
              "frame.time_relative          0\n",
              "frame.len                    0\n",
              "data.len               1441202\n",
              "ip.src                   12764\n",
              "ip.dst                   12764\n",
              "frame.protocols              0\n",
              "label                        0\n",
              "dtype: int64"
            ]
          },
          "metadata": {
            "tags": []
          },
          "execution_count": 17
        }
      ]
    },
    {
      "cell_type": "code",
      "metadata": {
        "colab": {
          "base_uri": "https://localhost:8080/"
        },
        "id": "j8Igk41J2iW7",
        "outputId": "6c0be8d1-a6cd-4973-b449-320c5e9747ef"
      },
      "source": [
        "df['data.len'] = df['data.len'].fillna(0)\n",
        "df['ip.src'] = df['ip.src'].fillna(method='ffill')\n",
        "df['ip.dst'] = df['ip.dst'].fillna(method='ffill')\n",
        "df.isna().sum()"
      ],
      "execution_count": 18,
      "outputs": [
        {
          "output_type": "execute_result",
          "data": {
            "text/plain": [
              "frame.number           0\n",
              "frame.time_relative    0\n",
              "frame.len              0\n",
              "data.len               0\n",
              "ip.src                 0\n",
              "ip.dst                 0\n",
              "frame.protocols        0\n",
              "label                  0\n",
              "dtype: int64"
            ]
          },
          "metadata": {
            "tags": []
          },
          "execution_count": 18
        }
      ]
    },
    {
      "cell_type": "code",
      "metadata": {
        "colab": {
          "base_uri": "https://localhost:8080/",
          "height": 424
        },
        "id": "TxK_ptA34kPh",
        "outputId": "d0537c54-18d7-4717-a773-467d32f4ccd9"
      },
      "source": [
        "df"
      ],
      "execution_count": 19,
      "outputs": [
        {
          "output_type": "execute_result",
          "data": {
            "text/html": [
              "<div>\n",
              "<style scoped>\n",
              "    .dataframe tbody tr th:only-of-type {\n",
              "        vertical-align: middle;\n",
              "    }\n",
              "\n",
              "    .dataframe tbody tr th {\n",
              "        vertical-align: top;\n",
              "    }\n",
              "\n",
              "    .dataframe thead th {\n",
              "        text-align: right;\n",
              "    }\n",
              "</style>\n",
              "<table border=\"1\" class=\"dataframe\">\n",
              "  <thead>\n",
              "    <tr style=\"text-align: right;\">\n",
              "      <th></th>\n",
              "      <th>frame.number</th>\n",
              "      <th>frame.time_relative</th>\n",
              "      <th>frame.len</th>\n",
              "      <th>data.len</th>\n",
              "      <th>ip.src</th>\n",
              "      <th>ip.dst</th>\n",
              "      <th>frame.protocols</th>\n",
              "      <th>label</th>\n",
              "    </tr>\n",
              "  </thead>\n",
              "  <tbody>\n",
              "    <tr>\n",
              "      <th>0</th>\n",
              "      <td>88211</td>\n",
              "      <td>70.949809</td>\n",
              "      <td>1514</td>\n",
              "      <td>0.0</td>\n",
              "      <td>104.74.213.186</td>\n",
              "      <td>192.168.0.24</td>\n",
              "      <td>eth:ethertype:ip:tcp</td>\n",
              "      <td>0</td>\n",
              "    </tr>\n",
              "    <tr>\n",
              "      <th>1</th>\n",
              "      <td>58708</td>\n",
              "      <td>132.842376</td>\n",
              "      <td>54</td>\n",
              "      <td>0.0</td>\n",
              "      <td>192.168.0.19</td>\n",
              "      <td>173.194.49.203</td>\n",
              "      <td>eth:ethertype:ip:tcp</td>\n",
              "      <td>0</td>\n",
              "    </tr>\n",
              "    <tr>\n",
              "      <th>2</th>\n",
              "      <td>131894</td>\n",
              "      <td>296.013317</td>\n",
              "      <td>66</td>\n",
              "      <td>0.0</td>\n",
              "      <td>192.168.0.16</td>\n",
              "      <td>192.168.0.13</td>\n",
              "      <td>eth:ethertype:ip:tcp</td>\n",
              "      <td>0</td>\n",
              "    </tr>\n",
              "    <tr>\n",
              "      <th>3</th>\n",
              "      <td>252744</td>\n",
              "      <td>49.393385</td>\n",
              "      <td>74</td>\n",
              "      <td>32.0</td>\n",
              "      <td>192.168.0.24</td>\n",
              "      <td>210.89.164.90</td>\n",
              "      <td>eth:ethertype:ip:udp:data</td>\n",
              "      <td>1</td>\n",
              "    </tr>\n",
              "    <tr>\n",
              "      <th>4</th>\n",
              "      <td>35069</td>\n",
              "      <td>66.823389</td>\n",
              "      <td>1502</td>\n",
              "      <td>0.0</td>\n",
              "      <td>192.168.0.13</td>\n",
              "      <td>192.168.0.16</td>\n",
              "      <td>eth:ethertype:ip:tcp</td>\n",
              "      <td>0</td>\n",
              "    </tr>\n",
              "    <tr>\n",
              "      <th>...</th>\n",
              "      <td>...</td>\n",
              "      <td>...</td>\n",
              "      <td>...</td>\n",
              "      <td>...</td>\n",
              "      <td>...</td>\n",
              "      <td>...</td>\n",
              "      <td>...</td>\n",
              "      <td>...</td>\n",
              "    </tr>\n",
              "    <tr>\n",
              "      <th>2722818</th>\n",
              "      <td>91235</td>\n",
              "      <td>152.817776</td>\n",
              "      <td>77</td>\n",
              "      <td>35.0</td>\n",
              "      <td>192.168.0.24</td>\n",
              "      <td>210.89.164.90</td>\n",
              "      <td>eth:ethertype:ip:udp:data</td>\n",
              "      <td>1</td>\n",
              "    </tr>\n",
              "    <tr>\n",
              "      <th>2722819</th>\n",
              "      <td>137817</td>\n",
              "      <td>59.616331</td>\n",
              "      <td>74</td>\n",
              "      <td>32.0</td>\n",
              "      <td>192.168.0.13</td>\n",
              "      <td>210.89.164.90</td>\n",
              "      <td>eth:ethertype:ip:udp:data</td>\n",
              "      <td>1</td>\n",
              "    </tr>\n",
              "    <tr>\n",
              "      <th>2722820</th>\n",
              "      <td>18178</td>\n",
              "      <td>59.422203</td>\n",
              "      <td>1498</td>\n",
              "      <td>0.0</td>\n",
              "      <td>192.168.0.13</td>\n",
              "      <td>192.168.0.16</td>\n",
              "      <td>eth:ethertype:ip:tcp</td>\n",
              "      <td>0</td>\n",
              "    </tr>\n",
              "    <tr>\n",
              "      <th>2722821</th>\n",
              "      <td>77956</td>\n",
              "      <td>285.853238</td>\n",
              "      <td>188</td>\n",
              "      <td>0.0</td>\n",
              "      <td>192.168.0.24</td>\n",
              "      <td>223.39.123.191</td>\n",
              "      <td>eth:ethertype:ip:tcp:ssl</td>\n",
              "      <td>0</td>\n",
              "    </tr>\n",
              "    <tr>\n",
              "      <th>2722822</th>\n",
              "      <td>393991</td>\n",
              "      <td>75.815770</td>\n",
              "      <td>74</td>\n",
              "      <td>32.0</td>\n",
              "      <td>192.168.0.24</td>\n",
              "      <td>210.89.164.90</td>\n",
              "      <td>eth:ethertype:ip:udp:data</td>\n",
              "      <td>1</td>\n",
              "    </tr>\n",
              "  </tbody>\n",
              "</table>\n",
              "<p>2722823 rows × 8 columns</p>\n",
              "</div>"
            ],
            "text/plain": [
              "         frame.number  frame.time_relative  ...            frame.protocols  label\n",
              "0               88211            70.949809  ...       eth:ethertype:ip:tcp      0\n",
              "1               58708           132.842376  ...       eth:ethertype:ip:tcp      0\n",
              "2              131894           296.013317  ...       eth:ethertype:ip:tcp      0\n",
              "3              252744            49.393385  ...  eth:ethertype:ip:udp:data      1\n",
              "4               35069            66.823389  ...       eth:ethertype:ip:tcp      0\n",
              "...               ...                  ...  ...                        ...    ...\n",
              "2722818         91235           152.817776  ...  eth:ethertype:ip:udp:data      1\n",
              "2722819        137817            59.616331  ...  eth:ethertype:ip:udp:data      1\n",
              "2722820         18178            59.422203  ...       eth:ethertype:ip:tcp      0\n",
              "2722821         77956           285.853238  ...   eth:ethertype:ip:tcp:ssl      0\n",
              "2722822        393991            75.815770  ...  eth:ethertype:ip:udp:data      1\n",
              "\n",
              "[2722823 rows x 8 columns]"
            ]
          },
          "metadata": {
            "tags": []
          },
          "execution_count": 19
        }
      ]
    },
    {
      "cell_type": "code",
      "metadata": {
        "colab": {
          "base_uri": "https://localhost:8080/",
          "height": 206
        },
        "id": "38gzGVonHgcz",
        "outputId": "5ed19e3c-06d5-4dea-91f2-0b551605740b"
      },
      "source": [
        "from sklearn import preprocessing\n",
        "  \n",
        "# label_encoder object knows how to understand word labels.\n",
        "label_encoder = preprocessing.LabelEncoder()\n",
        "  \n",
        "# Encode labels in column 'species'.\n",
        "df['ip.src']= label_encoder.fit_transform(df['ip.src'])\n",
        "df['ip.dst']= label_encoder.fit_transform(df['ip.dst'])\n",
        "df[:5]"
      ],
      "execution_count": 21,
      "outputs": [
        {
          "output_type": "execute_result",
          "data": {
            "text/html": [
              "<div>\n",
              "<style scoped>\n",
              "    .dataframe tbody tr th:only-of-type {\n",
              "        vertical-align: middle;\n",
              "    }\n",
              "\n",
              "    .dataframe tbody tr th {\n",
              "        vertical-align: top;\n",
              "    }\n",
              "\n",
              "    .dataframe thead th {\n",
              "        text-align: right;\n",
              "    }\n",
              "</style>\n",
              "<table border=\"1\" class=\"dataframe\">\n",
              "  <thead>\n",
              "    <tr style=\"text-align: right;\">\n",
              "      <th></th>\n",
              "      <th>frame.number</th>\n",
              "      <th>frame.time_relative</th>\n",
              "      <th>frame.len</th>\n",
              "      <th>data.len</th>\n",
              "      <th>ip.src</th>\n",
              "      <th>ip.dst</th>\n",
              "      <th>frame.protocols</th>\n",
              "      <th>label</th>\n",
              "    </tr>\n",
              "  </thead>\n",
              "  <tbody>\n",
              "    <tr>\n",
              "      <th>0</th>\n",
              "      <td>88211</td>\n",
              "      <td>70.949809</td>\n",
              "      <td>1514</td>\n",
              "      <td>0.0</td>\n",
              "      <td>56</td>\n",
              "      <td>27002</td>\n",
              "      <td>eth:ethertype:ip:tcp</td>\n",
              "      <td>0</td>\n",
              "    </tr>\n",
              "    <tr>\n",
              "      <th>1</th>\n",
              "      <td>58708</td>\n",
              "      <td>132.842376</td>\n",
              "      <td>54</td>\n",
              "      <td>0.0</td>\n",
              "      <td>26921</td>\n",
              "      <td>26821</td>\n",
              "      <td>eth:ethertype:ip:tcp</td>\n",
              "      <td>0</td>\n",
              "    </tr>\n",
              "    <tr>\n",
              "      <th>2</th>\n",
              "      <td>131894</td>\n",
              "      <td>296.013317</td>\n",
              "      <td>66</td>\n",
              "      <td>0.0</td>\n",
              "      <td>26913</td>\n",
              "      <td>26966</td>\n",
              "      <td>eth:ethertype:ip:tcp</td>\n",
              "      <td>0</td>\n",
              "    </tr>\n",
              "    <tr>\n",
              "      <th>3</th>\n",
              "      <td>252744</td>\n",
              "      <td>49.393385</td>\n",
              "      <td>74</td>\n",
              "      <td>32.0</td>\n",
              "      <td>26935</td>\n",
              "      <td>27350</td>\n",
              "      <td>eth:ethertype:ip:udp:data</td>\n",
              "      <td>1</td>\n",
              "    </tr>\n",
              "    <tr>\n",
              "      <th>4</th>\n",
              "      <td>35069</td>\n",
              "      <td>66.823389</td>\n",
              "      <td>1502</td>\n",
              "      <td>0.0</td>\n",
              "      <td>26905</td>\n",
              "      <td>26977</td>\n",
              "      <td>eth:ethertype:ip:tcp</td>\n",
              "      <td>0</td>\n",
              "    </tr>\n",
              "  </tbody>\n",
              "</table>\n",
              "</div>"
            ],
            "text/plain": [
              "   frame.number  frame.time_relative  ...            frame.protocols  label\n",
              "0         88211            70.949809  ...       eth:ethertype:ip:tcp      0\n",
              "1         58708           132.842376  ...       eth:ethertype:ip:tcp      0\n",
              "2        131894           296.013317  ...       eth:ethertype:ip:tcp      0\n",
              "3        252744            49.393385  ...  eth:ethertype:ip:udp:data      1\n",
              "4         35069            66.823389  ...       eth:ethertype:ip:tcp      0\n",
              "\n",
              "[5 rows x 8 columns]"
            ]
          },
          "metadata": {
            "tags": []
          },
          "execution_count": 21
        }
      ]
    },
    {
      "cell_type": "code",
      "metadata": {
        "colab": {
          "base_uri": "https://localhost:8080/",
          "height": 206
        },
        "id": "rUrUvhs2LC5j",
        "outputId": "7ca5276e-1c21-4395-f0a9-03fdc3220718"
      },
      "source": [
        "from sklearn.preprocessing import MinMaxScaler\n",
        "  \n",
        "# Creating an instance of the sklearn.preprocessing.MinMaxScaler()\n",
        "scaler = MinMaxScaler()\n",
        "  \n",
        "# Scaling the Price column of the created dataFrame and storing\n",
        "# the result in ScaledPrice Column\n",
        "df[['frame.time_relative']] = scaler.fit_transform(df[['frame.time_relative']])\n",
        "df[:5]"
      ],
      "execution_count": 23,
      "outputs": [
        {
          "output_type": "execute_result",
          "data": {
            "text/html": [
              "<div>\n",
              "<style scoped>\n",
              "    .dataframe tbody tr th:only-of-type {\n",
              "        vertical-align: middle;\n",
              "    }\n",
              "\n",
              "    .dataframe tbody tr th {\n",
              "        vertical-align: top;\n",
              "    }\n",
              "\n",
              "    .dataframe thead th {\n",
              "        text-align: right;\n",
              "    }\n",
              "</style>\n",
              "<table border=\"1\" class=\"dataframe\">\n",
              "  <thead>\n",
              "    <tr style=\"text-align: right;\">\n",
              "      <th></th>\n",
              "      <th>frame.number</th>\n",
              "      <th>frame.time_relative</th>\n",
              "      <th>frame.len</th>\n",
              "      <th>data.len</th>\n",
              "      <th>ip.src</th>\n",
              "      <th>ip.dst</th>\n",
              "      <th>frame.protocols</th>\n",
              "      <th>label</th>\n",
              "    </tr>\n",
              "  </thead>\n",
              "  <tbody>\n",
              "    <tr>\n",
              "      <th>0</th>\n",
              "      <td>88211</td>\n",
              "      <td>0.219518</td>\n",
              "      <td>1514</td>\n",
              "      <td>0.0</td>\n",
              "      <td>56</td>\n",
              "      <td>27002</td>\n",
              "      <td>eth:ethertype:ip:tcp</td>\n",
              "      <td>0</td>\n",
              "    </tr>\n",
              "    <tr>\n",
              "      <th>1</th>\n",
              "      <td>58708</td>\n",
              "      <td>0.411014</td>\n",
              "      <td>54</td>\n",
              "      <td>0.0</td>\n",
              "      <td>26921</td>\n",
              "      <td>26821</td>\n",
              "      <td>eth:ethertype:ip:tcp</td>\n",
              "      <td>0</td>\n",
              "    </tr>\n",
              "    <tr>\n",
              "      <th>2</th>\n",
              "      <td>131894</td>\n",
              "      <td>0.915864</td>\n",
              "      <td>66</td>\n",
              "      <td>0.0</td>\n",
              "      <td>26913</td>\n",
              "      <td>26966</td>\n",
              "      <td>eth:ethertype:ip:tcp</td>\n",
              "      <td>0</td>\n",
              "    </tr>\n",
              "    <tr>\n",
              "      <th>3</th>\n",
              "      <td>252744</td>\n",
              "      <td>0.152823</td>\n",
              "      <td>74</td>\n",
              "      <td>32.0</td>\n",
              "      <td>26935</td>\n",
              "      <td>27350</td>\n",
              "      <td>eth:ethertype:ip:udp:data</td>\n",
              "      <td>1</td>\n",
              "    </tr>\n",
              "    <tr>\n",
              "      <th>4</th>\n",
              "      <td>35069</td>\n",
              "      <td>0.206751</td>\n",
              "      <td>1502</td>\n",
              "      <td>0.0</td>\n",
              "      <td>26905</td>\n",
              "      <td>26977</td>\n",
              "      <td>eth:ethertype:ip:tcp</td>\n",
              "      <td>0</td>\n",
              "    </tr>\n",
              "  </tbody>\n",
              "</table>\n",
              "</div>"
            ],
            "text/plain": [
              "   frame.number  frame.time_relative  ...            frame.protocols  label\n",
              "0         88211             0.219518  ...       eth:ethertype:ip:tcp      0\n",
              "1         58708             0.411014  ...       eth:ethertype:ip:tcp      0\n",
              "2        131894             0.915864  ...       eth:ethertype:ip:tcp      0\n",
              "3        252744             0.152823  ...  eth:ethertype:ip:udp:data      1\n",
              "4         35069             0.206751  ...       eth:ethertype:ip:tcp      0\n",
              "\n",
              "[5 rows x 8 columns]"
            ]
          },
          "metadata": {
            "tags": []
          },
          "execution_count": 23
        }
      ]
    },
    {
      "cell_type": "code",
      "metadata": {
        "colab": {
          "base_uri": "https://localhost:8080/"
        },
        "id": "bv1S7cZrDN5_",
        "outputId": "5a8ab44a-e95f-427d-eb00-527f8ed1afa3"
      },
      "source": [
        "# Create Entites using indexes of csv\n",
        "X = df.iloc[:, :-1].values #All the rows + all the columns except last\n",
        "Y = df.iloc[:,-1] #Dependent vairables is last column\n",
        "X.shape, Y.shape"
      ],
      "execution_count": 9,
      "outputs": [
        {
          "output_type": "execute_result",
          "data": {
            "text/plain": [
              "((2722823, 7), (2722823,))"
            ]
          },
          "metadata": {
            "tags": []
          },
          "execution_count": 9
        }
      ]
    },
    {
      "cell_type": "code",
      "metadata": {
        "id": "dMCsaBvmDBuv"
      },
      "source": [
        "from sklearn.compose import ColumnTransformer\n",
        "from sklearn.preprocessing import OneHotEncoder"
      ],
      "execution_count": 71,
      "outputs": []
    },
    {
      "cell_type": "code",
      "metadata": {
        "colab": {
          "base_uri": "https://localhost:8080/",
          "height": 382
        },
        "id": "icASOunqCf7m",
        "outputId": "eb2d932f-1a37-4f24-aa00-e74623523b5d"
      },
      "source": [
        ""
      ],
      "execution_count": 72,
      "outputs": [
        {
          "output_type": "error",
          "ename": "TypeError",
          "evalue": "ignored",
          "traceback": [
            "\u001b[0;31m---------------------------------------------------------------------------\u001b[0m",
            "\u001b[0;31mTypeError\u001b[0m                                 Traceback (most recent call last)",
            "\u001b[0;32m<ipython-input-72-45afeaa33c4c>\u001b[0m in \u001b[0;36m<module>\u001b[0;34m()\u001b[0m\n\u001b[1;32m      5\u001b[0m \u001b[0;34m\u001b[0m\u001b[0m\n\u001b[1;32m      6\u001b[0m \u001b[0;31m# Now we need to attach this functionality to matrix\u001b[0m\u001b[0;34m\u001b[0m\u001b[0;34m\u001b[0m\u001b[0;34m\u001b[0m\u001b[0m\n\u001b[0;32m----> 7\u001b[0;31m \u001b[0mX\u001b[0m \u001b[0;34m=\u001b[0m \u001b[0mnp\u001b[0m\u001b[0;34m.\u001b[0m\u001b[0marray\u001b[0m\u001b[0;34m(\u001b[0m\u001b[0mct\u001b[0m\u001b[0;34m.\u001b[0m\u001b[0mfit_transform\u001b[0m\u001b[0;34m(\u001b[0m\u001b[0mX\u001b[0m\u001b[0;34m)\u001b[0m\u001b[0;34m)\u001b[0m \u001b[0;31m# To create a matrix out of result\u001b[0m\u001b[0;34m\u001b[0m\u001b[0;34m\u001b[0m\u001b[0m\n\u001b[0m\u001b[1;32m      8\u001b[0m \u001b[0mX\u001b[0m\u001b[0;34m.\u001b[0m\u001b[0mshape\u001b[0m\u001b[0;34m\u001b[0m\u001b[0;34m\u001b[0m\u001b[0m\n",
            "\u001b[0;32m/usr/local/lib/python3.7/dist-packages/sklearn/compose/_column_transformer.py\u001b[0m in \u001b[0;36mfit_transform\u001b[0;34m(self, X, y)\u001b[0m\n\u001b[1;32m    512\u001b[0m             \u001b[0mself\u001b[0m\u001b[0;34m.\u001b[0m\u001b[0m_feature_names_in\u001b[0m \u001b[0;34m=\u001b[0m \u001b[0;32mNone\u001b[0m\u001b[0;34m\u001b[0m\u001b[0;34m\u001b[0m\u001b[0m\n\u001b[1;32m    513\u001b[0m         \u001b[0mX\u001b[0m \u001b[0;34m=\u001b[0m \u001b[0m_check_X\u001b[0m\u001b[0;34m(\u001b[0m\u001b[0mX\u001b[0m\u001b[0;34m)\u001b[0m\u001b[0;34m\u001b[0m\u001b[0;34m\u001b[0m\u001b[0m\n\u001b[0;32m--> 514\u001b[0;31m         \u001b[0mself\u001b[0m\u001b[0;34m.\u001b[0m\u001b[0m_validate_transformers\u001b[0m\u001b[0;34m(\u001b[0m\u001b[0;34m)\u001b[0m\u001b[0;34m\u001b[0m\u001b[0;34m\u001b[0m\u001b[0m\n\u001b[0m\u001b[1;32m    515\u001b[0m         \u001b[0mself\u001b[0m\u001b[0;34m.\u001b[0m\u001b[0m_validate_column_callables\u001b[0m\u001b[0;34m(\u001b[0m\u001b[0mX\u001b[0m\u001b[0;34m)\u001b[0m\u001b[0;34m\u001b[0m\u001b[0;34m\u001b[0m\u001b[0m\n\u001b[1;32m    516\u001b[0m         \u001b[0mself\u001b[0m\u001b[0;34m.\u001b[0m\u001b[0m_validate_remainder\u001b[0m\u001b[0;34m(\u001b[0m\u001b[0mX\u001b[0m\u001b[0;34m)\u001b[0m\u001b[0;34m\u001b[0m\u001b[0;34m\u001b[0m\u001b[0m\n",
            "\u001b[0;32m/usr/local/lib/python3.7/dist-packages/sklearn/compose/_column_transformer.py\u001b[0m in \u001b[0;36m_validate_transformers\u001b[0;34m(self)\u001b[0m\n\u001b[1;32m    285\u001b[0m                                 \u001b[0;34m\"transform, or can be 'drop' or 'passthrough' \"\u001b[0m\u001b[0;34m\u001b[0m\u001b[0;34m\u001b[0m\u001b[0m\n\u001b[1;32m    286\u001b[0m                                 \u001b[0;34m\"specifiers. '%s' (type %s) doesn't.\"\u001b[0m \u001b[0;34m%\u001b[0m\u001b[0;34m\u001b[0m\u001b[0;34m\u001b[0m\u001b[0m\n\u001b[0;32m--> 287\u001b[0;31m                                 (t, type(t)))\n\u001b[0m\u001b[1;32m    288\u001b[0m \u001b[0;34m\u001b[0m\u001b[0m\n\u001b[1;32m    289\u001b[0m     \u001b[0;32mdef\u001b[0m \u001b[0m_validate_column_callables\u001b[0m\u001b[0;34m(\u001b[0m\u001b[0mself\u001b[0m\u001b[0;34m,\u001b[0m \u001b[0mX\u001b[0m\u001b[0;34m)\u001b[0m\u001b[0;34m:\u001b[0m\u001b[0;34m\u001b[0m\u001b[0;34m\u001b[0m\u001b[0m\n",
            "\u001b[0;31mTypeError\u001b[0m: All estimators should implement fit and transform, or can be 'drop' or 'passthrough' specifiers. '()' (type <class 'tuple'>) doesn't."
          ]
        }
      ]
    },
    {
      "cell_type": "code",
      "metadata": {
        "id": "ybuPymADC1H0"
      },
      "source": [
        "X[:,5]"
      ],
      "execution_count": null,
      "outputs": []
    },
    {
      "cell_type": "code",
      "metadata": {
        "id": "sLF6BLDU_wa_"
      },
      "source": [
        ""
      ],
      "execution_count": null,
      "outputs": []
    },
    {
      "cell_type": "code",
      "metadata": {
        "id": "-SyE35qR5AQy"
      },
      "source": [
        "df['frame.protocols'].unique()"
      ],
      "execution_count": null,
      "outputs": []
    },
    {
      "cell_type": "code",
      "metadata": {
        "id": "y2JrFjCX9B2R"
      },
      "source": [
        "for i in range(df.shape[0]):\n",
        "  var = df['frame.protocols'][i].split(':')\n",
        "  print(var)\n",
        "  temp = \"\"\n",
        "  if len(var) == 1 :\n",
        "    temp = \"\"\n",
        "  elif len(var) == 2 :\n",
        "    temp = temp + var[0] + \":\" + var[1]\n",
        "  elif len(var) == 3 :\n",
        "    temp = temp + var[0] + \":\" + var[1] + \":\" + var[2]\n",
        "  elif len(var) == 4 :\n",
        "    temp = temp + var[0] + \":\" + var[1] + \":\" + var[2] + \":\" + var[3]\n",
        "\n",
        "  df['frame.protocols'][i] = temp  \n",
        "  print(df['frame.protocols'][i])\n",
        "  break"
      ],
      "execution_count": null,
      "outputs": []
    }
  ]
}